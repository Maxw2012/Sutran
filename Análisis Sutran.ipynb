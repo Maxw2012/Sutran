{
 "cells": [
  {
   "cell_type": "code",
   "execution_count": 199,
   "metadata": {
    "id": "b7ZSEKGydsc0"
   },
   "outputs": [
    {
     "name": "stdout",
     "output_type": "stream",
     "text": [
      "Requirement already satisfied: pandas==2.3.1 in c:\\users\\osmar\\appdata\\local\\programs\\python\\python310\\lib\\site-packages (2.3.1)\n",
      "Requirement already satisfied: numpy==2.2.6 in c:\\users\\osmar\\appdata\\local\\programs\\python\\python310\\lib\\site-packages (2.2.6)\n",
      "Requirement already satisfied: chardet==5.2.0 in c:\\users\\osmar\\appdata\\local\\programs\\python\\python310\\lib\\site-packages (5.2.0)\n",
      "Requirement already satisfied: seaborn==0.13.2 in c:\\users\\osmar\\appdata\\local\\programs\\python\\python310\\lib\\site-packages (0.13.2)\n",
      "Requirement already satisfied: matplotlib==3.10.5 in c:\\users\\osmar\\appdata\\local\\programs\\python\\python310\\lib\\site-packages (3.10.5)\n",
      "Requirement already satisfied: geopandas==1.1.1 in c:\\users\\osmar\\appdata\\local\\programs\\python\\python310\\lib\\site-packages (1.1.1)\n",
      "Requirement already satisfied: scikit-learn==1.7.1 in c:\\users\\osmar\\appdata\\local\\programs\\python\\python310\\lib\\site-packages (1.7.1)\n",
      "Requirement already satisfied: python-dateutil>=2.8.2 in c:\\users\\osmar\\appdata\\roaming\\python\\python310\\site-packages (from pandas==2.3.1) (2.9.0.post0)\n",
      "Requirement already satisfied: pytz>=2020.1 in c:\\users\\osmar\\appdata\\local\\programs\\python\\python310\\lib\\site-packages (from pandas==2.3.1) (2025.2)\n",
      "Requirement already satisfied: tzdata>=2022.7 in c:\\users\\osmar\\appdata\\local\\programs\\python\\python310\\lib\\site-packages (from pandas==2.3.1) (2025.2)\n",
      "Requirement already satisfied: pillow>=8 in c:\\users\\osmar\\appdata\\local\\programs\\python\\python310\\lib\\site-packages (from matplotlib==3.10.5) (11.3.0)\n",
      "Requirement already satisfied: packaging>=20.0 in c:\\users\\osmar\\appdata\\roaming\\python\\python310\\site-packages (from matplotlib==3.10.5) (24.2)\n",
      "Requirement already satisfied: kiwisolver>=1.3.1 in c:\\users\\osmar\\appdata\\local\\programs\\python\\python310\\lib\\site-packages (from matplotlib==3.10.5) (1.4.8)\n",
      "Requirement already satisfied: pyparsing>=2.3.1 in c:\\users\\osmar\\appdata\\local\\programs\\python\\python310\\lib\\site-packages (from matplotlib==3.10.5) (3.2.3)\n",
      "Requirement already satisfied: cycler>=0.10 in c:\\users\\osmar\\appdata\\local\\programs\\python\\python310\\lib\\site-packages (from matplotlib==3.10.5) (0.12.1)\n",
      "Requirement already satisfied: contourpy>=1.0.1 in c:\\users\\osmar\\appdata\\local\\programs\\python\\python310\\lib\\site-packages (from matplotlib==3.10.5) (1.3.2)\n",
      "Requirement already satisfied: fonttools>=4.22.0 in c:\\users\\osmar\\appdata\\local\\programs\\python\\python310\\lib\\site-packages (from matplotlib==3.10.5) (4.59.0)\n",
      "Requirement already satisfied: shapely>=2.0.0 in c:\\users\\osmar\\appdata\\local\\programs\\python\\python310\\lib\\site-packages (from geopandas==1.1.1) (2.1.1)\n",
      "Requirement already satisfied: pyproj>=3.5.0 in c:\\users\\osmar\\appdata\\local\\programs\\python\\python310\\lib\\site-packages (from geopandas==1.1.1) (3.7.1)\n",
      "Requirement already satisfied: pyogrio>=0.7.2 in c:\\users\\osmar\\appdata\\local\\programs\\python\\python310\\lib\\site-packages (from geopandas==1.1.1) (0.11.1)\n",
      "Requirement already satisfied: joblib>=1.2.0 in c:\\users\\osmar\\appdata\\local\\programs\\python\\python310\\lib\\site-packages (from scikit-learn==1.7.1) (1.5.1)\n",
      "Requirement already satisfied: scipy>=1.8.0 in c:\\users\\osmar\\appdata\\local\\programs\\python\\python310\\lib\\site-packages (from scikit-learn==1.7.1) (1.15.3)\n",
      "Requirement already satisfied: threadpoolctl>=3.1.0 in c:\\users\\osmar\\appdata\\local\\programs\\python\\python310\\lib\\site-packages (from scikit-learn==1.7.1) (3.6.0)\n",
      "Requirement already satisfied: certifi in c:\\users\\osmar\\appdata\\local\\programs\\python\\python310\\lib\\site-packages (from pyogrio>=0.7.2->geopandas==1.1.1) (2025.8.3)\n",
      "Requirement already satisfied: six>=1.5 in c:\\users\\osmar\\appdata\\roaming\\python\\python310\\site-packages (from python-dateutil>=2.8.2->pandas==2.3.1) (1.17.0)\n"
     ]
    },
    {
     "name": "stderr",
     "output_type": "stream",
     "text": [
      "WARNING: You are using pip version 21.2.3; however, version 25.2 is available.\n",
      "You should consider upgrading via the 'C:\\Users\\osmar\\AppData\\Local\\Programs\\Python\\Python310\\python.exe -m pip install --upgrade pip' command.\n"
     ]
    }
   ],
   "source": [
    "!pip install pandas==2.3.1 numpy==2.2.6 chardet==5.2.0 seaborn==0.13.2 matplotlib==3.10.5 geopandas==1.1.1 scikit-learn==1.7.1\n",
    "import pandas as pd\n",
    "import numpy as np\n",
    "import chardet\n",
    "import seaborn as sns\n",
    "import matplotlib\n",
    "import geopandas as gpd\n",
    "import sklearn"
   ]
  },
  {
   "cell_type": "code",
   "execution_count": 138,
   "metadata": {
    "colab": {
     "base_uri": "https://localhost:8080/"
    },
    "id": "gjeW5YnSeSir",
    "outputId": "bcee5582-52ca-4f1f-f8a6-135724361153"
   },
   "outputs": [],
   "source": [
    "# from google.colab import drive\n",
    "# drive.mount('/gdrive')"
   ]
  },
  {
   "cell_type": "markdown",
   "metadata": {
    "id": "Ff8L8FIJhB1v"
   },
   "source": [
    "**EXPLORACIÓN DE LOS DATOS**"
   ]
  },
  {
   "cell_type": "code",
   "execution_count": 139,
   "metadata": {
    "colab": {
     "base_uri": "https://localhost:8080/"
    },
    "id": "ev7GQptKea8_",
    "outputId": "a393d02f-0178-45f9-b74c-fb8e909713d5"
   },
   "outputs": [
    {
     "name": "stdout",
     "output_type": "stream",
     "text": [
      "ascii\n"
     ]
    }
   ],
   "source": [
    "\n",
    "rawdata = open(\"Accidentes de tránsito en carreteras-2020-2021-Sutran.csv\", 'rb').read()\n",
    "result = chardet.detect(rawdata)\n",
    "char_enc = result['encoding']\n",
    "print(char_enc)\n",
    "df = pd.read_csv('Accidentes de tránsito en carreteras-2020-2021-Sutran.csv', encoding=char_enc, sep=';')"
   ]
  },
  {
   "cell_type": "code",
   "execution_count": 140,
   "metadata": {
    "colab": {
     "base_uri": "https://localhost:8080/"
    },
    "id": "AR-5teFdeg_4",
    "outputId": "5f76078d-e791-4a7b-c318-6ddb48e0364d"
   },
   "outputs": [
    {
     "data": {
      "text/plain": [
       "(8155, 9)"
      ]
     },
     "execution_count": 140,
     "metadata": {},
     "output_type": "execute_result"
    }
   ],
   "source": [
    "df.shape"
   ]
  },
  {
   "cell_type": "code",
   "execution_count": 141,
   "metadata": {
    "colab": {
     "base_uri": "https://localhost:8080/",
     "height": 556
    },
    "id": "YV-k3lxLekXy",
    "outputId": "e7041b7e-622e-465f-de48-6ed83445df6c"
   },
   "outputs": [
    {
     "data": {
      "text/html": [
       "<div>\n",
       "<style scoped>\n",
       "    .dataframe tbody tr th:only-of-type {\n",
       "        vertical-align: middle;\n",
       "    }\n",
       "\n",
       "    .dataframe tbody tr th {\n",
       "        vertical-align: top;\n",
       "    }\n",
       "\n",
       "    .dataframe thead th {\n",
       "        text-align: right;\n",
       "    }\n",
       "</style>\n",
       "<table border=\"1\" class=\"dataframe\">\n",
       "  <thead>\n",
       "    <tr style=\"text-align: right;\">\n",
       "      <th></th>\n",
       "      <th>FECHA_CORTE</th>\n",
       "      <th>FECHA_ACC</th>\n",
       "      <th>HORA_ACC</th>\n",
       "      <th>DEPARTAMENTO</th>\n",
       "      <th>CODIGO_VIA</th>\n",
       "      <th>KILOMETRO</th>\n",
       "      <th>MODALIDAD_ACC</th>\n",
       "      <th>CANT_FALLECIDOS</th>\n",
       "      <th>CANT_HERIDOS</th>\n",
       "    </tr>\n",
       "  </thead>\n",
       "  <tbody>\n",
       "    <tr>\n",
       "      <th>0</th>\n",
       "      <td>20211222</td>\n",
       "      <td>20200101</td>\n",
       "      <td>05:40</td>\n",
       "      <td>LIMA</td>\n",
       "      <td>PE-1S</td>\n",
       "      <td>24</td>\n",
       "      <td>DESPISTE</td>\n",
       "      <td>0</td>\n",
       "      <td>0</td>\n",
       "    </tr>\n",
       "    <tr>\n",
       "      <th>1</th>\n",
       "      <td>20211222</td>\n",
       "      <td>20200101</td>\n",
       "      <td>16:30</td>\n",
       "      <td>CAJAMARCA</td>\n",
       "      <td>PE-3N</td>\n",
       "      <td>74</td>\n",
       "      <td>DESPISTE</td>\n",
       "      <td>0</td>\n",
       "      <td>0</td>\n",
       "    </tr>\n",
       "    <tr>\n",
       "      <th>2</th>\n",
       "      <td>20211222</td>\n",
       "      <td>20200101</td>\n",
       "      <td>07:45</td>\n",
       "      <td>PASCO</td>\n",
       "      <td>PE-3N</td>\n",
       "      <td>103</td>\n",
       "      <td>DESPISTE</td>\n",
       "      <td>0</td>\n",
       "      <td>1</td>\n",
       "    </tr>\n",
       "    <tr>\n",
       "      <th>3</th>\n",
       "      <td>20211222</td>\n",
       "      <td>20200101</td>\n",
       "      <td>18:30</td>\n",
       "      <td>CAJAMARCA</td>\n",
       "      <td>PE-08</td>\n",
       "      <td>111</td>\n",
       "      <td>DESPISTE</td>\n",
       "      <td>0</td>\n",
       "      <td>2</td>\n",
       "    </tr>\n",
       "    <tr>\n",
       "      <th>4</th>\n",
       "      <td>20211222</td>\n",
       "      <td>20200101</td>\n",
       "      <td>18:40</td>\n",
       "      <td>LIMA</td>\n",
       "      <td>PE-1N</td>\n",
       "      <td>174</td>\n",
       "      <td>DESPISTE</td>\n",
       "      <td>0</td>\n",
       "      <td>5</td>\n",
       "    </tr>\n",
       "    <tr>\n",
       "      <th>5</th>\n",
       "      <td>20211222</td>\n",
       "      <td>20200101</td>\n",
       "      <td>16:30</td>\n",
       "      <td>ICA</td>\n",
       "      <td>PE-1S</td>\n",
       "      <td>199</td>\n",
       "      <td>CHOQUE</td>\n",
       "      <td>0</td>\n",
       "      <td>1</td>\n",
       "    </tr>\n",
       "    <tr>\n",
       "      <th>6</th>\n",
       "      <td>20211222</td>\n",
       "      <td>20200101</td>\n",
       "      <td>16:35</td>\n",
       "      <td>ICA</td>\n",
       "      <td>PE-1S</td>\n",
       "      <td>201</td>\n",
       "      <td>CHOQUE</td>\n",
       "      <td>1</td>\n",
       "      <td>1</td>\n",
       "    </tr>\n",
       "    <tr>\n",
       "      <th>7</th>\n",
       "      <td>20211222</td>\n",
       "      <td>20200101</td>\n",
       "      <td>21:45</td>\n",
       "      <td>HUANUCO</td>\n",
       "      <td>PE-3N</td>\n",
       "      <td>226</td>\n",
       "      <td>ATROPELLO</td>\n",
       "      <td>0</td>\n",
       "      <td>1</td>\n",
       "    </tr>\n",
       "    <tr>\n",
       "      <th>8</th>\n",
       "      <td>20211222</td>\n",
       "      <td>20200101</td>\n",
       "      <td>23:50</td>\n",
       "      <td>PIURA</td>\n",
       "      <td>PE-1N</td>\n",
       "      <td>232</td>\n",
       "      <td>CHOQUE</td>\n",
       "      <td>0</td>\n",
       "      <td>6</td>\n",
       "    </tr>\n",
       "    <tr>\n",
       "      <th>9</th>\n",
       "      <td>20211222</td>\n",
       "      <td>20200101</td>\n",
       "      <td>02:30</td>\n",
       "      <td>AMAZONAS</td>\n",
       "      <td>PE-5N</td>\n",
       "      <td>263</td>\n",
       "      <td>DESPISTE</td>\n",
       "      <td>0</td>\n",
       "      <td>2</td>\n",
       "    </tr>\n",
       "  </tbody>\n",
       "</table>\n",
       "</div>"
      ],
      "text/plain": [
       "   FECHA_CORTE  FECHA_ACC HORA_ACC DEPARTAMENTO CODIGO_VIA KILOMETRO  \\\n",
       "0     20211222   20200101    05:40         LIMA      PE-1S        24   \n",
       "1     20211222   20200101    16:30    CAJAMARCA      PE-3N        74   \n",
       "2     20211222   20200101    07:45        PASCO      PE-3N       103   \n",
       "3     20211222   20200101    18:30    CAJAMARCA      PE-08       111   \n",
       "4     20211222   20200101    18:40         LIMA      PE-1N       174   \n",
       "5     20211222   20200101    16:30          ICA      PE-1S       199   \n",
       "6     20211222   20200101    16:35          ICA      PE-1S       201   \n",
       "7     20211222   20200101    21:45      HUANUCO      PE-3N       226   \n",
       "8     20211222   20200101    23:50        PIURA      PE-1N       232   \n",
       "9     20211222   20200101    02:30     AMAZONAS      PE-5N       263   \n",
       "\n",
       "  MODALIDAD_ACC CANT_FALLECIDOS CANT_HERIDOS  \n",
       "0      DESPISTE               0            0  \n",
       "1      DESPISTE               0            0  \n",
       "2      DESPISTE               0            1  \n",
       "3      DESPISTE               0            2  \n",
       "4      DESPISTE               0            5  \n",
       "5        CHOQUE               0            1  \n",
       "6        CHOQUE               1            1  \n",
       "7     ATROPELLO               0            1  \n",
       "8        CHOQUE               0            6  \n",
       "9      DESPISTE               0            2  "
      ]
     },
     "execution_count": 141,
     "metadata": {},
     "output_type": "execute_result"
    }
   ],
   "source": [
    "df.head(10)"
   ]
  },
  {
   "cell_type": "code",
   "execution_count": 142,
   "metadata": {
    "id": "OSLbtTDLj08i"
   },
   "outputs": [],
   "source": [
    "df = df[['FECHA_ACC', 'HORA_ACC', 'MODALIDAD_ACC', 'CANT_FALLECIDOS', 'CANT_HERIDOS', 'CODIGO_VIA', 'DEPARTAMENTO']]\n"
   ]
  },
  {
   "cell_type": "code",
   "execution_count": 143,
   "metadata": {
    "colab": {
     "base_uri": "https://localhost:8080/"
    },
    "id": "zb-VqTKVetUq",
    "outputId": "d4662480-de04-49b6-da5e-c235e771785c"
   },
   "outputs": [
    {
     "data": {
      "text/plain": [
       "FECHA_ACC           int64\n",
       "HORA_ACC           object\n",
       "MODALIDAD_ACC      object\n",
       "CANT_FALLECIDOS    object\n",
       "CANT_HERIDOS       object\n",
       "CODIGO_VIA         object\n",
       "DEPARTAMENTO       object\n",
       "dtype: object"
      ]
     },
     "execution_count": 143,
     "metadata": {},
     "output_type": "execute_result"
    }
   ],
   "source": [
    "df.dtypes"
   ]
  },
  {
   "cell_type": "code",
   "execution_count": 144,
   "metadata": {
    "colab": {
     "base_uri": "https://localhost:8080/"
    },
    "id": "yACIFZozkekm",
    "outputId": "cf8066a6-d216-4919-8f09-73a3f75b9f44"
   },
   "outputs": [],
   "source": [
    "\n",
    "df.FECHA_ACC = df.FECHA_ACC.astype('object')"
   ]
  },
  {
   "cell_type": "code",
   "execution_count": 145,
   "metadata": {
    "id": "KMWJq5-egB6b"
   },
   "outputs": [],
   "source": [
    "\n",
    "columnsNumeric = ['CANT_FALLECIDOS','CANT_HERIDOS']\n",
    "columnsString = ['FECHA_ACC', 'HORA_ACC', 'MODALIDAD_ACC','CODIGO_VIA','DEPARTAMENTO']"
   ]
  },
  {
   "cell_type": "code",
   "execution_count": 146,
   "metadata": {
    "colab": {
     "base_uri": "https://localhost:8080/",
     "height": 300
    },
    "id": "96mvG2ErllaP",
    "outputId": "cf1af2ac-ea80-411b-ace6-35ccb5b6ceac"
   },
   "outputs": [
    {
     "data": {
      "text/html": [
       "<div>\n",
       "<style scoped>\n",
       "    .dataframe tbody tr th:only-of-type {\n",
       "        vertical-align: middle;\n",
       "    }\n",
       "\n",
       "    .dataframe tbody tr th {\n",
       "        vertical-align: top;\n",
       "    }\n",
       "\n",
       "    .dataframe thead th {\n",
       "        text-align: right;\n",
       "    }\n",
       "</style>\n",
       "<table border=\"1\" class=\"dataframe\">\n",
       "  <thead>\n",
       "    <tr style=\"text-align: right;\">\n",
       "      <th></th>\n",
       "      <th>CANT_FALLECIDOS</th>\n",
       "      <th>CANT_HERIDOS</th>\n",
       "    </tr>\n",
       "  </thead>\n",
       "  <tbody>\n",
       "    <tr>\n",
       "      <th>count</th>\n",
       "      <td>8155</td>\n",
       "      <td>8155</td>\n",
       "    </tr>\n",
       "    <tr>\n",
       "      <th>unique</th>\n",
       "      <td>16</td>\n",
       "      <td>37</td>\n",
       "    </tr>\n",
       "    <tr>\n",
       "      <th>top</th>\n",
       "      <td>0</td>\n",
       "      <td>0</td>\n",
       "    </tr>\n",
       "    <tr>\n",
       "      <th>freq</th>\n",
       "      <td>7199</td>\n",
       "      <td>3452</td>\n",
       "    </tr>\n",
       "  </tbody>\n",
       "</table>\n",
       "</div>"
      ],
      "text/plain": [
       "       CANT_FALLECIDOS CANT_HERIDOS\n",
       "count             8155         8155\n",
       "unique              16           37\n",
       "top                  0            0\n",
       "freq              7199         3452"
      ]
     },
     "execution_count": 146,
     "metadata": {},
     "output_type": "execute_result"
    }
   ],
   "source": [
    "df[columnsNumeric].describe()\n"
   ]
  },
  {
   "cell_type": "markdown",
   "metadata": {
    "id": "7Vs8Z-3IogKW"
   },
   "source": [
    "**PREPARACIÓN DE LOS DATOS**"
   ]
  },
  {
   "cell_type": "code",
   "execution_count": 147,
   "metadata": {
    "colab": {
     "base_uri": "https://localhost:8080/"
    },
    "id": "uyYglDITo5Qo",
    "outputId": "fa059cf7-3ae4-4641-b550-48184f6e2b31"
   },
   "outputs": [
    {
     "data": {
      "text/plain": [
       "CANT_FALLECIDOS    0\n",
       "CANT_HERIDOS       0\n",
       "dtype: int64"
      ]
     },
     "execution_count": 147,
     "metadata": {},
     "output_type": "execute_result"
    }
   ],
   "source": [
    "df[columnsNumeric].isnull().sum()"
   ]
  },
  {
   "cell_type": "markdown",
   "metadata": {
    "id": "BSWhux9dp3m4"
   },
   "source": [
    "Variables categóricas:"
   ]
  },
  {
   "cell_type": "code",
   "execution_count": 148,
   "metadata": {
    "colab": {
     "base_uri": "https://localhost:8080/",
     "height": 175
    },
    "id": "KsYX4L5cp1dF",
    "outputId": "8caf311e-0e2d-4c93-b5ce-f7adc0d80435"
   },
   "outputs": [
    {
     "data": {
      "text/html": [
       "<div>\n",
       "<style scoped>\n",
       "    .dataframe tbody tr th:only-of-type {\n",
       "        vertical-align: middle;\n",
       "    }\n",
       "\n",
       "    .dataframe tbody tr th {\n",
       "        vertical-align: top;\n",
       "    }\n",
       "\n",
       "    .dataframe thead th {\n",
       "        text-align: right;\n",
       "    }\n",
       "</style>\n",
       "<table border=\"1\" class=\"dataframe\">\n",
       "  <thead>\n",
       "    <tr style=\"text-align: right;\">\n",
       "      <th></th>\n",
       "      <th>FECHA_ACC</th>\n",
       "      <th>HORA_ACC</th>\n",
       "      <th>MODALIDAD_ACC</th>\n",
       "      <th>CODIGO_VIA</th>\n",
       "      <th>DEPARTAMENTO</th>\n",
       "    </tr>\n",
       "  </thead>\n",
       "  <tbody>\n",
       "    <tr>\n",
       "      <th>count</th>\n",
       "      <td>8155</td>\n",
       "      <td>8155</td>\n",
       "      <td>8155</td>\n",
       "      <td>8155</td>\n",
       "      <td>8155</td>\n",
       "    </tr>\n",
       "    <tr>\n",
       "      <th>unique</th>\n",
       "      <td>638</td>\n",
       "      <td>596</td>\n",
       "      <td>6</td>\n",
       "      <td>175</td>\n",
       "      <td>29</td>\n",
       "    </tr>\n",
       "    <tr>\n",
       "      <th>top</th>\n",
       "      <td>20210801</td>\n",
       "      <td>07:00</td>\n",
       "      <td>DESPISTE</td>\n",
       "      <td>PE-1N</td>\n",
       "      <td>LIMA</td>\n",
       "    </tr>\n",
       "    <tr>\n",
       "      <th>freq</th>\n",
       "      <td>36</td>\n",
       "      <td>126</td>\n",
       "      <td>3829</td>\n",
       "      <td>1494</td>\n",
       "      <td>1558</td>\n",
       "    </tr>\n",
       "  </tbody>\n",
       "</table>\n",
       "</div>"
      ],
      "text/plain": [
       "        FECHA_ACC HORA_ACC MODALIDAD_ACC CODIGO_VIA DEPARTAMENTO\n",
       "count        8155     8155          8155       8155         8155\n",
       "unique        638      596             6        175           29\n",
       "top      20210801    07:00      DESPISTE      PE-1N         LIMA\n",
       "freq           36      126          3829       1494         1558"
      ]
     },
     "execution_count": 148,
     "metadata": {},
     "output_type": "execute_result"
    }
   ],
   "source": [
    "df[columnsString].describe(include='O')"
   ]
  },
  {
   "cell_type": "code",
   "execution_count": 149,
   "metadata": {
    "colab": {
     "base_uri": "https://localhost:8080/"
    },
    "id": "Hn8NJVo9o5PD",
    "outputId": "e71a6ef8-646b-4b68-f8bf-56666728676b"
   },
   "outputs": [
    {
     "data": {
      "text/plain": [
       "FECHA_ACC        638\n",
       "HORA_ACC         596\n",
       "MODALIDAD_ACC      6\n",
       "CODIGO_VIA       175\n",
       "DEPARTAMENTO      29\n",
       "dtype: int64"
      ]
     },
     "execution_count": 149,
     "metadata": {},
     "output_type": "execute_result"
    }
   ],
   "source": [
    "df[columnsString].nunique()"
   ]
  },
  {
   "cell_type": "code",
   "execution_count": 150,
   "metadata": {
    "colab": {
     "base_uri": "https://localhost:8080/"
    },
    "id": "3QKHS8o9quZ4",
    "outputId": "b970d660-83c1-4755-f626-f8a3d156ede4"
   },
   "outputs": [
    {
     "name": "stdout",
     "output_type": "stream",
     "text": [
      "(8155, 7)\n",
      "FECHA_ACC        638\n",
      "HORA_ACC         596\n",
      "MODALIDAD_ACC      6\n",
      "CODIGO_VIA       175\n",
      "DEPARTAMENTO      29\n",
      "dtype: int64\n"
     ]
    }
   ],
   "source": [
    "print(df.shape)\n",
    "print(df[columnsString].nunique())"
   ]
  },
  {
   "cell_type": "code",
   "execution_count": 151,
   "metadata": {
    "colab": {
     "base_uri": "https://localhost:8080/"
    },
    "id": "qIkTLRngrK8H",
    "outputId": "6e94617e-e7b3-4194-87ae-9d2d207a4908"
   },
   "outputs": [
    {
     "name": "stdout",
     "output_type": "stream",
     "text": [
      "FECHA_ACC\n",
      "FECHA_ACC\n",
      "20200101    16\n",
      "20200102    22\n",
      "20200103    15\n",
      "20200104    14\n",
      "20200105    16\n",
      "            ..\n",
      "20210926    15\n",
      "20210927    23\n",
      "20210928     9\n",
      "20210929    14\n",
      "20210930    17\n",
      "Length: 638, dtype: int64\n",
      "\n",
      "\n",
      "HORA_ACC\n",
      "HORA_ACC\n",
      "00:00    16\n",
      "00:03     1\n",
      "00:05     9\n",
      "00:10    19\n",
      "00:12     1\n",
      "         ..\n",
      "23:47     1\n",
      "23:49     1\n",
      "23:50    29\n",
      "23:55     9\n",
      "N.I.     88\n",
      "Length: 596, dtype: int64\n",
      "\n",
      "\n",
      "MODALIDAD_ACC\n",
      "MODALIDAD_ACC\n",
      "ATROPELLO     361\n",
      "CHOQUE       3623\n",
      "DESPISTE     3829\n",
      "ESPECIAL      186\n",
      "N.I.           28\n",
      "VOLCADURA     128\n",
      "dtype: int64\n",
      "\n",
      "\n",
      "CODIGO_VIA\n",
      "CODIGO_VIA\n",
      "AM-103    1\n",
      "AM-108    3\n",
      "AM-518    1\n",
      "AN-100    2\n",
      "AN-104    1\n",
      "         ..\n",
      "PU-120    1\n",
      "PU-123    1\n",
      "PU-953    1\n",
      "SM-114    1\n",
      "TU-101    2\n",
      "Length: 175, dtype: int64\n",
      "\n",
      "\n",
      "DEPARTAMENTO\n",
      "DEPARTAMENTO\n",
      "AMAZONAS          152\n",
      "ANCASH            602\n",
      "APURIMAC          202\n",
      "AREQUIPA          795\n",
      "AYACUCHO          168\n",
      "Arequipa            2\n",
      "CAJAMARCA         350\n",
      "CALLAO              6\n",
      "CUSCO             346\n",
      "Cusco               1\n",
      "HUANCAVELICA       62\n",
      "HUANUCO           174\n",
      "ICA               377\n",
      "JUNIN             715\n",
      "LA LIBERTAD       329\n",
      "LAMBAYEQUE        343\n",
      "LIMA             1558\n",
      "LORETO             82\n",
      "MADRE DE DIOS     191\n",
      "MOQUEGUA          155\n",
      "N.I.                7\n",
      "PASCO              77\n",
      "PIURA             327\n",
      "PUNO              529\n",
      "Puno                1\n",
      "SAN MARTIN        274\n",
      "TACNA             151\n",
      "TUMBES             25\n",
      "UCAYALI           154\n",
      "dtype: int64\n",
      "\n",
      "\n"
     ]
    }
   ],
   "source": [
    "\n",
    "for x in columnsString:\n",
    "    print(x)\n",
    "    print(df.groupby(x).size())\n",
    "    print(\"\\n\")"
   ]
  },
  {
   "cell_type": "code",
   "execution_count": 152,
   "metadata": {
    "colab": {
     "base_uri": "https://localhost:8080/"
    },
    "id": "3p-N5qByrk30",
    "outputId": "82a1c582-1708-47e7-aea8-7531f6fda095"
   },
   "outputs": [
    {
     "data": {
      "text/plain": [
       "FECHA_ACC        0\n",
       "HORA_ACC         0\n",
       "MODALIDAD_ACC    0\n",
       "CODIGO_VIA       0\n",
       "DEPARTAMENTO     0\n",
       "dtype: int64"
      ]
     },
     "execution_count": 152,
     "metadata": {},
     "output_type": "execute_result"
    }
   ],
   "source": [
    "\n",
    "df[columnsString].isnull().sum()"
   ]
  },
  {
   "cell_type": "code",
   "execution_count": 153,
   "metadata": {
    "colab": {
     "base_uri": "https://localhost:8080/"
    },
    "id": "ZpRKsdImrk2S",
    "outputId": "1eaf23c4-b8d3-404f-c03c-8b5e87355fef"
   },
   "outputs": [
    {
     "data": {
      "text/plain": [
       "FECHA_ACC          0\n",
       "HORA_ACC           0\n",
       "MODALIDAD_ACC      0\n",
       "CANT_FALLECIDOS    0\n",
       "CANT_HERIDOS       0\n",
       "CODIGO_VIA         0\n",
       "DEPARTAMENTO       0\n",
       "dtype: int64"
      ]
     },
     "execution_count": 153,
     "metadata": {},
     "output_type": "execute_result"
    }
   ],
   "source": [
    "\n",
    "df.isnull().sum()"
   ]
  },
  {
   "cell_type": "code",
   "execution_count": 154,
   "metadata": {
    "colab": {
     "base_uri": "https://localhost:8080/",
     "height": 394
    },
    "id": "GDbyjB0Rrv7v",
    "outputId": "da3de21e-dcd0-4e38-f02c-9cd24a27310e"
   },
   "outputs": [
    {
     "data": {
      "text/html": [
       "<div>\n",
       "<style scoped>\n",
       "    .dataframe tbody tr th:only-of-type {\n",
       "        vertical-align: middle;\n",
       "    }\n",
       "\n",
       "    .dataframe tbody tr th {\n",
       "        vertical-align: top;\n",
       "    }\n",
       "\n",
       "    .dataframe thead th {\n",
       "        text-align: right;\n",
       "    }\n",
       "</style>\n",
       "<table border=\"1\" class=\"dataframe\">\n",
       "  <thead>\n",
       "    <tr style=\"text-align: right;\">\n",
       "      <th></th>\n",
       "      <th>FECHA_ACC</th>\n",
       "      <th>HORA_ACC</th>\n",
       "      <th>MODALIDAD_ACC</th>\n",
       "      <th>CANT_FALLECIDOS</th>\n",
       "      <th>CANT_HERIDOS</th>\n",
       "      <th>CODIGO_VIA</th>\n",
       "      <th>DEPARTAMENTO</th>\n",
       "    </tr>\n",
       "  </thead>\n",
       "  <tbody>\n",
       "    <tr>\n",
       "      <th>count</th>\n",
       "      <td>8155</td>\n",
       "      <td>8155</td>\n",
       "      <td>8155</td>\n",
       "      <td>8155</td>\n",
       "      <td>8155</td>\n",
       "      <td>8155</td>\n",
       "      <td>8155</td>\n",
       "    </tr>\n",
       "    <tr>\n",
       "      <th>unique</th>\n",
       "      <td>638</td>\n",
       "      <td>596</td>\n",
       "      <td>6</td>\n",
       "      <td>16</td>\n",
       "      <td>37</td>\n",
       "      <td>175</td>\n",
       "      <td>29</td>\n",
       "    </tr>\n",
       "    <tr>\n",
       "      <th>top</th>\n",
       "      <td>20210801</td>\n",
       "      <td>07:00</td>\n",
       "      <td>DESPISTE</td>\n",
       "      <td>0</td>\n",
       "      <td>0</td>\n",
       "      <td>PE-1N</td>\n",
       "      <td>LIMA</td>\n",
       "    </tr>\n",
       "    <tr>\n",
       "      <th>freq</th>\n",
       "      <td>36</td>\n",
       "      <td>126</td>\n",
       "      <td>3829</td>\n",
       "      <td>7199</td>\n",
       "      <td>3452</td>\n",
       "      <td>1494</td>\n",
       "      <td>1558</td>\n",
       "    </tr>\n",
       "  </tbody>\n",
       "</table>\n",
       "</div>"
      ],
      "text/plain": [
       "        FECHA_ACC HORA_ACC MODALIDAD_ACC CANT_FALLECIDOS CANT_HERIDOS  \\\n",
       "count        8155     8155          8155            8155         8155   \n",
       "unique        638      596             6              16           37   \n",
       "top      20210801    07:00      DESPISTE               0            0   \n",
       "freq           36      126          3829            7199         3452   \n",
       "\n",
       "       CODIGO_VIA DEPARTAMENTO  \n",
       "count        8155         8155  \n",
       "unique        175           29  \n",
       "top         PE-1N         LIMA  \n",
       "freq         1494         1558  "
      ]
     },
     "execution_count": 154,
     "metadata": {},
     "output_type": "execute_result"
    }
   ],
   "source": [
    "df.describe(include='all')"
   ]
  },
  {
   "cell_type": "code",
   "execution_count": 155,
   "metadata": {
    "id": "6euW7X5GszfP"
   },
   "outputs": [],
   "source": [
    "\n",
    "from sklearn.impute import SimpleImputer\n",
    "\n",
    "imp_univ_cat = SimpleImputer(missing_values=np.nan, strategy='most_frequent')"
   ]
  },
  {
   "cell_type": "code",
   "execution_count": 156,
   "metadata": {
    "id": "I-ixZRFyt9_i"
   },
   "outputs": [],
   "source": [
    "data_impt_cat = df[columnsString]"
   ]
  },
  {
   "cell_type": "code",
   "execution_count": 157,
   "metadata": {
    "id": "h-mDv5PcuO6k"
   },
   "outputs": [],
   "source": [
    "\n",
    "imp_univ_cat.fit(data_impt_cat)\n",
    "imputed_data_univ_cat = pd.DataFrame(data=imp_univ_cat.transform(data_impt_cat),\n",
    "                             columns=data_impt_cat.columns,dtype='object')"
   ]
  },
  {
   "cell_type": "code",
   "execution_count": 158,
   "metadata": {
    "id": "79S0g0UvuUBU"
   },
   "outputs": [],
   "source": [
    "\n",
    "df[columnsString] = imputed_data_univ_cat"
   ]
  },
  {
   "cell_type": "code",
   "execution_count": 159,
   "metadata": {
    "colab": {
     "base_uri": "https://localhost:8080/"
    },
    "id": "M2GEV6JVubPt",
    "outputId": "e23c328d-ee1c-485b-ce8c-c3db62d60a80"
   },
   "outputs": [
    {
     "data": {
      "text/plain": [
       "FECHA_ACC          0\n",
       "HORA_ACC           0\n",
       "MODALIDAD_ACC      0\n",
       "CANT_FALLECIDOS    0\n",
       "CANT_HERIDOS       0\n",
       "CODIGO_VIA         0\n",
       "DEPARTAMENTO       0\n",
       "dtype: int64"
      ]
     },
     "execution_count": 159,
     "metadata": {},
     "output_type": "execute_result"
    }
   ],
   "source": [
    "\n",
    "df.isnull().sum()"
   ]
  },
  {
   "cell_type": "code",
   "execution_count": 160,
   "metadata": {
    "colab": {
     "base_uri": "https://localhost:8080/",
     "height": 363
    },
    "id": "nVBy-UT0usf-",
    "outputId": "706609f4-34f6-4720-f0e5-fdb9b120298b"
   },
   "outputs": [
    {
     "data": {
      "text/html": [
       "<div>\n",
       "<style scoped>\n",
       "    .dataframe tbody tr th:only-of-type {\n",
       "        vertical-align: middle;\n",
       "    }\n",
       "\n",
       "    .dataframe tbody tr th {\n",
       "        vertical-align: top;\n",
       "    }\n",
       "\n",
       "    .dataframe thead th {\n",
       "        text-align: right;\n",
       "    }\n",
       "</style>\n",
       "<table border=\"1\" class=\"dataframe\">\n",
       "  <thead>\n",
       "    <tr style=\"text-align: right;\">\n",
       "      <th></th>\n",
       "      <th>FECHA_ACC</th>\n",
       "      <th>HORA_ACC</th>\n",
       "      <th>MODALIDAD_ACC</th>\n",
       "      <th>CANT_FALLECIDOS</th>\n",
       "      <th>CANT_HERIDOS</th>\n",
       "      <th>CODIGO_VIA</th>\n",
       "      <th>DEPARTAMENTO</th>\n",
       "    </tr>\n",
       "  </thead>\n",
       "  <tbody>\n",
       "    <tr>\n",
       "      <th>0</th>\n",
       "      <td>20200101</td>\n",
       "      <td>05:40</td>\n",
       "      <td>DESPISTE</td>\n",
       "      <td>0</td>\n",
       "      <td>0</td>\n",
       "      <td>PE-1S</td>\n",
       "      <td>LIMA</td>\n",
       "    </tr>\n",
       "    <tr>\n",
       "      <th>1</th>\n",
       "      <td>20200101</td>\n",
       "      <td>16:30</td>\n",
       "      <td>DESPISTE</td>\n",
       "      <td>0</td>\n",
       "      <td>0</td>\n",
       "      <td>PE-3N</td>\n",
       "      <td>CAJAMARCA</td>\n",
       "    </tr>\n",
       "    <tr>\n",
       "      <th>2</th>\n",
       "      <td>20200101</td>\n",
       "      <td>07:45</td>\n",
       "      <td>DESPISTE</td>\n",
       "      <td>0</td>\n",
       "      <td>1</td>\n",
       "      <td>PE-3N</td>\n",
       "      <td>PASCO</td>\n",
       "    </tr>\n",
       "    <tr>\n",
       "      <th>3</th>\n",
       "      <td>20200101</td>\n",
       "      <td>18:30</td>\n",
       "      <td>DESPISTE</td>\n",
       "      <td>0</td>\n",
       "      <td>2</td>\n",
       "      <td>PE-08</td>\n",
       "      <td>CAJAMARCA</td>\n",
       "    </tr>\n",
       "    <tr>\n",
       "      <th>4</th>\n",
       "      <td>20200101</td>\n",
       "      <td>18:40</td>\n",
       "      <td>DESPISTE</td>\n",
       "      <td>0</td>\n",
       "      <td>5</td>\n",
       "      <td>PE-1N</td>\n",
       "      <td>LIMA</td>\n",
       "    </tr>\n",
       "    <tr>\n",
       "      <th>5</th>\n",
       "      <td>20200101</td>\n",
       "      <td>16:30</td>\n",
       "      <td>CHOQUE</td>\n",
       "      <td>0</td>\n",
       "      <td>1</td>\n",
       "      <td>PE-1S</td>\n",
       "      <td>ICA</td>\n",
       "    </tr>\n",
       "    <tr>\n",
       "      <th>6</th>\n",
       "      <td>20200101</td>\n",
       "      <td>16:35</td>\n",
       "      <td>CHOQUE</td>\n",
       "      <td>1</td>\n",
       "      <td>1</td>\n",
       "      <td>PE-1S</td>\n",
       "      <td>ICA</td>\n",
       "    </tr>\n",
       "    <tr>\n",
       "      <th>7</th>\n",
       "      <td>20200101</td>\n",
       "      <td>21:45</td>\n",
       "      <td>ATROPELLO</td>\n",
       "      <td>0</td>\n",
       "      <td>1</td>\n",
       "      <td>PE-3N</td>\n",
       "      <td>HUANUCO</td>\n",
       "    </tr>\n",
       "    <tr>\n",
       "      <th>8</th>\n",
       "      <td>20200101</td>\n",
       "      <td>23:50</td>\n",
       "      <td>CHOQUE</td>\n",
       "      <td>0</td>\n",
       "      <td>6</td>\n",
       "      <td>PE-1N</td>\n",
       "      <td>PIURA</td>\n",
       "    </tr>\n",
       "    <tr>\n",
       "      <th>9</th>\n",
       "      <td>20200101</td>\n",
       "      <td>02:30</td>\n",
       "      <td>DESPISTE</td>\n",
       "      <td>0</td>\n",
       "      <td>2</td>\n",
       "      <td>PE-5N</td>\n",
       "      <td>AMAZONAS</td>\n",
       "    </tr>\n",
       "  </tbody>\n",
       "</table>\n",
       "</div>"
      ],
      "text/plain": [
       "  FECHA_ACC HORA_ACC MODALIDAD_ACC CANT_FALLECIDOS CANT_HERIDOS CODIGO_VIA  \\\n",
       "0  20200101    05:40      DESPISTE               0            0      PE-1S   \n",
       "1  20200101    16:30      DESPISTE               0            0      PE-3N   \n",
       "2  20200101    07:45      DESPISTE               0            1      PE-3N   \n",
       "3  20200101    18:30      DESPISTE               0            2      PE-08   \n",
       "4  20200101    18:40      DESPISTE               0            5      PE-1N   \n",
       "5  20200101    16:30        CHOQUE               0            1      PE-1S   \n",
       "6  20200101    16:35        CHOQUE               1            1      PE-1S   \n",
       "7  20200101    21:45     ATROPELLO               0            1      PE-3N   \n",
       "8  20200101    23:50        CHOQUE               0            6      PE-1N   \n",
       "9  20200101    02:30      DESPISTE               0            2      PE-5N   \n",
       "\n",
       "  DEPARTAMENTO  \n",
       "0         LIMA  \n",
       "1    CAJAMARCA  \n",
       "2        PASCO  \n",
       "3    CAJAMARCA  \n",
       "4         LIMA  \n",
       "5          ICA  \n",
       "6          ICA  \n",
       "7      HUANUCO  \n",
       "8        PIURA  \n",
       "9     AMAZONAS  "
      ]
     },
     "execution_count": 160,
     "metadata": {},
     "output_type": "execute_result"
    }
   ],
   "source": [
    "df.head(10)"
   ]
  },
  {
   "cell_type": "code",
   "execution_count": 161,
   "metadata": {
    "colab": {
     "base_uri": "https://localhost:8080/"
    },
    "id": "aDitYoYVuwUl",
    "outputId": "c6ef990b-cc7b-4c2f-e030-c9d38f5608cb"
   },
   "outputs": [
    {
     "data": {
      "text/plain": [
       "FECHA_ACC          0\n",
       "HORA_ACC           0\n",
       "MODALIDAD_ACC      0\n",
       "CANT_FALLECIDOS    0\n",
       "CANT_HERIDOS       0\n",
       "CODIGO_VIA         0\n",
       "DEPARTAMENTO       0\n",
       "dtype: int64"
      ]
     },
     "execution_count": 161,
     "metadata": {},
     "output_type": "execute_result"
    }
   ],
   "source": [
    "\n",
    "df.isnull().sum()"
   ]
  },
  {
   "cell_type": "code",
   "execution_count": 162,
   "metadata": {
    "colab": {
     "base_uri": "https://localhost:8080/"
    },
    "id": "zzGfTLqPhp-o",
    "outputId": "cc3acb9a-79af-48ff-e860-a4e284056cbf"
   },
   "outputs": [],
   "source": [
    "\n",
    "df['FECHA_ACC'] = pd.to_datetime(df['FECHA_ACC'], format='%Y%m%d').dt.month\n",
    "\n",
    "df['HORA_ACC'] = df['HORA_ACC'].replace(['N.I.', 'N.I', 'NI', 'N/A', '', None], np.nan)\n",
    "\n",
    "df['HORA_ACC'] = pd.to_datetime(df['HORA_ACC'], format='%H:%M', errors='coerce').dt.hour\n",
    "\n",
    "moda_hora = df['HORA_ACC'].mode()[0] if not df['HORA_ACC'].mode().empty else 0\n",
    "\n",
    "df['HORA_ACC'] = df['HORA_ACC'].fillna(moda_hora)\n",
    "\n",
    "df['FECHA_ACC'] = df['FECHA_ACC'].astype(int)\n",
    "\n",
    "def categorize_time(hour):\n",
    "    if 6 <= hour < 12:\n",
    "        return 'MAÑANA'\n",
    "    elif 12 <= hour < 18:\n",
    "        return 'TARDE'\n",
    "    elif 18 <= hour < 24:\n",
    "        return 'NOCHE'\n",
    "    else:\n",
    "        return 'MADRUGADA'\n",
    "\n",
    "\n",
    "\n",
    "\n",
    "df['HORA_ACC'] = df['HORA_ACC'].apply(categorize_time)"
   ]
  },
  {
   "cell_type": "code",
   "execution_count": 163,
   "metadata": {
    "id": "gR1MMZTqlQCU"
   },
   "outputs": [],
   "source": [
    "\n",
    "df['CODIGO_VIA'] = df['CODIGO_VIA'].apply(lambda x: 'CARRETERA' if x != 'VIA URBANA' else x)"
   ]
  },
  {
   "cell_type": "code",
   "execution_count": 164,
   "metadata": {
    "colab": {
     "base_uri": "https://localhost:8080/"
    },
    "id": "LKuvFS16mt3q",
    "outputId": "95a045e2-2fce-4367-ab29-a95dccac4e64"
   },
   "outputs": [
    {
     "data": {
      "text/plain": [
       "FECHA_ACC           int64\n",
       "HORA_ACC           object\n",
       "MODALIDAD_ACC      object\n",
       "CANT_FALLECIDOS    object\n",
       "CANT_HERIDOS       object\n",
       "CODIGO_VIA         object\n",
       "DEPARTAMENTO       object\n",
       "dtype: object"
      ]
     },
     "execution_count": 164,
     "metadata": {},
     "output_type": "execute_result"
    }
   ],
   "source": [
    "df.dtypes"
   ]
  },
  {
   "cell_type": "code",
   "execution_count": 165,
   "metadata": {
    "id": "X7oNjSji1re6"
   },
   "outputs": [],
   "source": [
    "\n",
    "df.FECHA_ACC = df.FECHA_ACC.astype('object')"
   ]
  },
  {
   "cell_type": "code",
   "execution_count": 166,
   "metadata": {
    "id": "1Lte817W3D61"
   },
   "outputs": [],
   "source": [
    "\n",
    "Columnsnames = ['NUM_MES', 'MOMENTO_DIA', 'MODALIDAD_ACC', 'CANT_FALLECIDOS',\n",
    "       'CANT_HERIDOS', 'TIPO_VIA', 'DEPARTAMENTO']\n",
    "df.columns = Columnsnames"
   ]
  },
  {
   "cell_type": "code",
   "execution_count": 167,
   "metadata": {
    "id": "DLezQTyE4Zju"
   },
   "outputs": [],
   "source": [
    "\n",
    "columnsNumeric = ['CANT_FALLECIDOS','CANT_HERIDOS']\n",
    "columnsString = ['NUM_MES', 'MOMENTO_DIA', 'MODALIDAD_ACC','TIPO_VIA','DEPARTAMENTO']"
   ]
  },
  {
   "cell_type": "code",
   "execution_count": 168,
   "metadata": {
    "colab": {
     "base_uri": "https://localhost:8080/"
    },
    "id": "DHgTMFq2qjS0",
    "outputId": "b9fcde95-0e5e-4499-c068-fb42906c3aa2"
   },
   "outputs": [
    {
     "name": "stdout",
     "output_type": "stream",
     "text": [
      "NUM_MES\n",
      "NUM_MES\n",
      "1     961\n",
      "2     905\n",
      "3     732\n",
      "4     494\n",
      "5     602\n",
      "6     684\n",
      "7     787\n",
      "8     861\n",
      "9     828\n",
      "10    387\n",
      "11    430\n",
      "12    484\n",
      "dtype: int64\n",
      "\n",
      "\n",
      "MOMENTO_DIA\n",
      "MOMENTO_DIA\n",
      "MADRUGADA    1227\n",
      "MAÑANA       2332\n",
      "NOCHE        2147\n",
      "TARDE        2449\n",
      "dtype: int64\n",
      "\n",
      "\n",
      "MODALIDAD_ACC\n",
      "MODALIDAD_ACC\n",
      "ATROPELLO     361\n",
      "CHOQUE       3623\n",
      "DESPISTE     3829\n",
      "ESPECIAL      186\n",
      "N.I.           28\n",
      "VOLCADURA     128\n",
      "dtype: int64\n",
      "\n",
      "\n",
      "TIPO_VIA\n",
      "TIPO_VIA\n",
      "CARRETERA    8155\n",
      "dtype: int64\n",
      "\n",
      "\n",
      "DEPARTAMENTO\n",
      "DEPARTAMENTO\n",
      "AMAZONAS          152\n",
      "ANCASH            602\n",
      "APURIMAC          202\n",
      "AREQUIPA          795\n",
      "AYACUCHO          168\n",
      "Arequipa            2\n",
      "CAJAMARCA         350\n",
      "CALLAO              6\n",
      "CUSCO             346\n",
      "Cusco               1\n",
      "HUANCAVELICA       62\n",
      "HUANUCO           174\n",
      "ICA               377\n",
      "JUNIN             715\n",
      "LA LIBERTAD       329\n",
      "LAMBAYEQUE        343\n",
      "LIMA             1558\n",
      "LORETO             82\n",
      "MADRE DE DIOS     191\n",
      "MOQUEGUA          155\n",
      "N.I.                7\n",
      "PASCO              77\n",
      "PIURA             327\n",
      "PUNO              529\n",
      "Puno                1\n",
      "SAN MARTIN        274\n",
      "TACNA             151\n",
      "TUMBES             25\n",
      "UCAYALI           154\n",
      "dtype: int64\n",
      "\n",
      "\n"
     ]
    }
   ],
   "source": [
    "\n",
    "for x in columnsString:\n",
    "    print(x)\n",
    "    print(df.groupby(x).size())\n",
    "    print(\"\\n\")"
   ]
  },
  {
   "cell_type": "code",
   "execution_count": 169,
   "metadata": {
    "colab": {
     "base_uri": "https://localhost:8080/",
     "height": 1000
    },
    "id": "6P2SuFWKqtBV",
    "outputId": "0e674d2c-10f0-4b35-c33d-fbbfc6075bc1"
   },
   "outputs": [
    {
     "name": "stderr",
     "output_type": "stream",
     "text": [
      "C:\\Users\\osmar\\AppData\\Local\\Temp\\ipykernel_104408\\1196907960.py:3: FutureWarning: Downcasting object dtype arrays on .fillna, .ffill, .bfill is deprecated and will change in a future version. Call result.infer_objects(copy=False) instead. To opt-in to the future behavior, set `pd.set_option('future.no_silent_downcasting', True)`\n",
      "  df.fillna(\"--NULL\").groupby(x)[x].count().plot(kind = \"bar\")\n"
     ]
    },
    {
     "data": {
      "image/png": "[encoded data removed]",
      "text/plain": [
       "<Figure size 640x480 with 1 Axes>"
      ]
     },
     "metadata": {},
     "output_type": "display_data"
    },
    {
     "name": "stderr",
     "output_type": "stream",
     "text": [
      "C:\\Users\\osmar\\AppData\\Local\\Temp\\ipykernel_104408\\1196907960.py:3: FutureWarning: Downcasting object dtype arrays on .fillna, .ffill, .bfill is deprecated and will change in a future version. Call result.infer_objects(copy=False) instead. To opt-in to the future behavior, set `pd.set_option('future.no_silent_downcasting', True)`\n",
      "  df.fillna(\"--NULL\").groupby(x)[x].count().plot(kind = \"bar\")\n"
     ]
    },
    {
     "data": {
      "image/png": "[encoded data removed]",
      "text/plain": [
       "<Figure size 640x480 with 1 Axes>"
      ]
     },
     "metadata": {},
     "output_type": "display_data"
    },
    {
     "name": "stderr",
     "output_type": "stream",
     "text": [
      "C:\\Users\\osmar\\AppData\\Local\\Temp\\ipykernel_104408\\1196907960.py:3: FutureWarning: Downcasting object dtype arrays on .fillna, .ffill, .bfill is deprecated and will change in a future version. Call result.infer_objects(copy=False) instead. To opt-in to the future behavior, set `pd.set_option('future.no_silent_downcasting', True)`\n",
      "  df.fillna(\"--NULL\").groupby(x)[x].count().plot(kind = \"bar\")\n"
     ]
    },
    {
     "data": {
      "image/png": "[encoded data removed]",
      "text/plain": [
       "<Figure size 640x480 with 1 Axes>"
      ]
     },
     "metadata": {},
     "output_type": "display_data"
    },
    {
     "name": "stderr",
     "output_type": "stream",
     "text": [
      "C:\\Users\\osmar\\AppData\\Local\\Temp\\ipykernel_104408\\1196907960.py:3: FutureWarning: Downcasting object dtype arrays on .fillna, .ffill, .bfill is deprecated and will change in a future version. Call result.infer_objects(copy=False) instead. To opt-in to the future behavior, set `pd.set_option('future.no_silent_downcasting', True)`\n",
      "  df.fillna(\"--NULL\").groupby(x)[x].count().plot(kind = \"bar\")\n"
     ]
    },
    {
     "data": {
      "image/png": "[encoded data removed]",
      "text/plain": [
       "<Figure size 640x480 with 1 Axes>"
      ]
     },
     "metadata": {},
     "output_type": "display_data"
    },
    {
     "name": "stderr",
     "output_type": "stream",
     "text": [
      "C:\\Users\\osmar\\AppData\\Local\\Temp\\ipykernel_104408\\1196907960.py:3: FutureWarning: Downcasting object dtype arrays on .fillna, .ffill, .bfill is deprecated and will change in a future version. Call result.infer_objects(copy=False) instead. To opt-in to the future behavior, set `pd.set_option('future.no_silent_downcasting', True)`\n",
      "  df.fillna(\"--NULL\").groupby(x)[x].count().plot(kind = \"bar\")\n"
     ]
    },
    {
     "data": {
      "image/png": "[encoded data removed]",
      "text/plain": [
       "<Figure size 640x480 with 1 Axes>"
      ]
     },
     "metadata": {},
     "output_type": "display_data"
    }
   ],
   "source": [
    "\n",
    "for x in columnsString:\n",
    "  plt.title(x)\n",
    "  df.fillna(\"--NULL\").groupby(x)[x].count().plot(kind = \"bar\")\n",
    "  plt.show()"
   ]
  },
  {
   "cell_type": "code",
   "execution_count": 170,
   "metadata": {
    "collapsed": true,
    "id": "jy-v_KLm8VJO"
   },
   "outputs": [],
   "source": [
    "\n",
    "# df.to_csv('/gdrive/MyDrive/COLABORATIVO 1/dataSutranPrueba.csv') # Ruta a guardar el archivo generado!"
   ]
  },
  {
   "cell_type": "code",
   "execution_count": 171,
   "metadata": {
    "colab": {
     "base_uri": "https://localhost:8080/"
    },
    "id": "fIuJU_h88qka",
    "outputId": "c745e5d4-27a1-43d2-fa82-aa81cb012196"
   },
   "outputs": [
    {
     "name": "stdout",
     "output_type": "stream",
     "text": [
      "NUM_MES\n",
      "Etiquetas originales: [1 2 3 4 5 6 7 8 9 10 11 12]\n",
      "Valores estandarizados: [ 0  1  2  3  4  5  6  7  8  9 10 11]\n",
      "MOMENTO_DIA\n",
      "Etiquetas originales: ['MADRUGADA' 'MAÑANA' 'NOCHE' 'TARDE']\n",
      "Valores estandarizados: [0 1 2 3]\n",
      "MODALIDAD_ACC\n",
      "Etiquetas originales: ['ATROPELLO' 'CHOQUE' 'DESPISTE' 'ESPECIAL' 'N.I.' 'VOLCADURA']\n",
      "Valores estandarizados: [0 1 2 3 4 5]\n",
      "TIPO_VIA\n",
      "Etiquetas originales: ['CARRETERA']\n",
      "Valores estandarizados: [0]\n",
      "DEPARTAMENTO\n",
      "Etiquetas originales: ['AMAZONAS' 'ANCASH' 'APURIMAC' 'AREQUIPA' 'AYACUCHO' 'Arequipa'\n",
      " 'CAJAMARCA' 'CALLAO' 'CUSCO' 'Cusco' 'HUANCAVELICA' 'HUANUCO' 'ICA'\n",
      " 'JUNIN' 'LA LIBERTAD' 'LAMBAYEQUE' 'LIMA' 'LORETO' 'MADRE DE DIOS'\n",
      " 'MOQUEGUA' 'N.I.' 'PASCO' 'PIURA' 'PUNO' 'Puno' 'SAN MARTIN' 'TACNA'\n",
      " 'TUMBES' 'UCAYALI']\n",
      "Valores estandarizados: [ 0  1  2  3  4  5  6  7  8  9 10 11 12 13 14 15 16 17 18 19 20 21 22 23\n",
      " 24 25 26 27 28]\n"
     ]
    }
   ],
   "source": [
    "from sklearn.preprocessing import LabelEncoder\n",
    "\n",
    "for c in columnsString:\n",
    "    print(str(c))\n",
    "    le = LabelEncoder()\n",
    "    le.fit(df[str(c)])\n",
    "    df[str(c)] = le.transform(df[str(c)])\n",
    "\n",
    "\n",
    "    print(\"Etiquetas originales:\", le.classes_)\n",
    "    print(\"Valores estandarizados:\", le.transform(le.classes_))"
   ]
  },
  {
   "cell_type": "code",
   "execution_count": 172,
   "metadata": {
    "id": "wbIeIqq5848U"
   },
   "outputs": [],
   "source": [
    "\n",
    "def Cuantiles(lista):\n",
    "    # Convierte a numérico, ignorando errores\n",
    "    lista = pd.to_numeric(lista, errors='coerce')\n",
    "    c = [0,1,5,10,20,30,40,50,60,70,80,90,92.5,95,97.5,99,100]\n",
    "    matrix = pd.concat([pd.DataFrame(c), pd.DataFrame(np.percentile(lista.dropna(), c))], axis=1)\n",
    "    matrix.columns = [\"Cuantil\", \"Valor_Variable\"]\n",
    "    return matrix"
   ]
  },
  {
   "cell_type": "code",
   "execution_count": 173,
   "metadata": {
    "colab": {
     "base_uri": "https://localhost:8080/",
     "height": 112
    },
    "id": "wUKvRrcnAvAx",
    "outputId": "5c8e1eef-2f7d-4b36-827e-f77b4e76d3d5"
   },
   "outputs": [
    {
     "data": {
      "text/html": [
       "<div>\n",
       "<style scoped>\n",
       "    .dataframe tbody tr th:only-of-type {\n",
       "        vertical-align: middle;\n",
       "    }\n",
       "\n",
       "    .dataframe tbody tr th {\n",
       "        vertical-align: top;\n",
       "    }\n",
       "\n",
       "    .dataframe thead th {\n",
       "        text-align: right;\n",
       "    }\n",
       "</style>\n",
       "<table border=\"1\" class=\"dataframe\">\n",
       "  <thead>\n",
       "    <tr style=\"text-align: right;\">\n",
       "      <th></th>\n",
       "      <th>0</th>\n",
       "      <th>1</th>\n",
       "      <th>2</th>\n",
       "      <th>3</th>\n",
       "      <th>4</th>\n",
       "      <th>5</th>\n",
       "      <th>6</th>\n",
       "      <th>7</th>\n",
       "      <th>8</th>\n",
       "      <th>9</th>\n",
       "      <th>10</th>\n",
       "      <th>11</th>\n",
       "      <th>12</th>\n",
       "      <th>13</th>\n",
       "      <th>14</th>\n",
       "      <th>15</th>\n",
       "      <th>16</th>\n",
       "    </tr>\n",
       "  </thead>\n",
       "  <tbody>\n",
       "    <tr>\n",
       "      <th>Cuantil</th>\n",
       "      <td>0.0</td>\n",
       "      <td>1.0</td>\n",
       "      <td>5.0</td>\n",
       "      <td>10.0</td>\n",
       "      <td>20.0</td>\n",
       "      <td>30.0</td>\n",
       "      <td>40.0</td>\n",
       "      <td>50.0</td>\n",
       "      <td>60.0</td>\n",
       "      <td>70.0</td>\n",
       "      <td>80.0</td>\n",
       "      <td>90.0</td>\n",
       "      <td>92.5</td>\n",
       "      <td>95.0</td>\n",
       "      <td>97.5</td>\n",
       "      <td>99.0</td>\n",
       "      <td>100.0</td>\n",
       "    </tr>\n",
       "    <tr>\n",
       "      <th>Valor_Variable</th>\n",
       "      <td>0.0</td>\n",
       "      <td>0.0</td>\n",
       "      <td>0.0</td>\n",
       "      <td>0.0</td>\n",
       "      <td>0.0</td>\n",
       "      <td>0.0</td>\n",
       "      <td>0.0</td>\n",
       "      <td>0.0</td>\n",
       "      <td>0.0</td>\n",
       "      <td>0.0</td>\n",
       "      <td>0.0</td>\n",
       "      <td>1.0</td>\n",
       "      <td>1.0</td>\n",
       "      <td>1.0</td>\n",
       "      <td>1.0</td>\n",
       "      <td>2.0</td>\n",
       "      <td>33.0</td>\n",
       "    </tr>\n",
       "  </tbody>\n",
       "</table>\n",
       "</div>"
      ],
      "text/plain": [
       "                 0    1    2     3     4     5     6     7     8     9     10  \\\n",
       "Cuantil         0.0  1.0  5.0  10.0  20.0  30.0  40.0  50.0  60.0  70.0  80.0   \n",
       "Valor_Variable  0.0  0.0  0.0   0.0   0.0   0.0   0.0   0.0   0.0   0.0   0.0   \n",
       "\n",
       "                  11    12    13    14    15     16  \n",
       "Cuantil         90.0  92.5  95.0  97.5  99.0  100.0  \n",
       "Valor_Variable   1.0   1.0   1.0   1.0   2.0   33.0  "
      ]
     },
     "execution_count": 173,
     "metadata": {},
     "output_type": "execute_result"
    }
   ],
   "source": [
    "\n",
    "Cuantiles(df[\"CANT_FALLECIDOS\"]).transpose()\n"
   ]
  },
  {
   "cell_type": "code",
   "execution_count": 174,
   "metadata": {
    "id": "NmXn8zhrJdcs"
   },
   "outputs": [],
   "source": [
    "\n",
    "df[\"CANT_FALLECIDOS\"] = pd.to_numeric(df[\"CANT_FALLECIDOS\"], errors='coerce')\n",
    "\n",
    "cuantil_1 = np.percentile(df[\"CANT_FALLECIDOS\"].dropna(), 1)\n",
    "cuantil_99 = np.percentile(df[\"CANT_FALLECIDOS\"].dropna(), 99)"
   ]
  },
  {
   "cell_type": "code",
   "execution_count": 175,
   "metadata": {
    "id": "O2sBI5TLJ3a8"
   },
   "outputs": [],
   "source": [
    "\n",
    "df.loc[df[\"CANT_FALLECIDOS\"]<cuantil_1,\"CANT_FALLECIDOS\"] = cuantil_1\n",
    "df.loc[df[\"CANT_FALLECIDOS\"]>cuantil_99,\"CANT_FALLECIDOS\"] = cuantil_99"
   ]
  },
  {
   "cell_type": "code",
   "execution_count": 176,
   "metadata": {
    "colab": {
     "base_uri": "https://localhost:8080/",
     "height": 112
    },
    "id": "gQC0CE3gKMAu",
    "outputId": "1d61f5ae-7a6e-404c-94cc-c6f6478e1f28"
   },
   "outputs": [
    {
     "data": {
      "text/html": [
       "<div>\n",
       "<style scoped>\n",
       "    .dataframe tbody tr th:only-of-type {\n",
       "        vertical-align: middle;\n",
       "    }\n",
       "\n",
       "    .dataframe tbody tr th {\n",
       "        vertical-align: top;\n",
       "    }\n",
       "\n",
       "    .dataframe thead th {\n",
       "        text-align: right;\n",
       "    }\n",
       "</style>\n",
       "<table border=\"1\" class=\"dataframe\">\n",
       "  <thead>\n",
       "    <tr style=\"text-align: right;\">\n",
       "      <th></th>\n",
       "      <th>0</th>\n",
       "      <th>1</th>\n",
       "      <th>2</th>\n",
       "      <th>3</th>\n",
       "      <th>4</th>\n",
       "      <th>5</th>\n",
       "      <th>6</th>\n",
       "      <th>7</th>\n",
       "      <th>8</th>\n",
       "      <th>9</th>\n",
       "      <th>10</th>\n",
       "      <th>11</th>\n",
       "      <th>12</th>\n",
       "      <th>13</th>\n",
       "      <th>14</th>\n",
       "      <th>15</th>\n",
       "      <th>16</th>\n",
       "    </tr>\n",
       "  </thead>\n",
       "  <tbody>\n",
       "    <tr>\n",
       "      <th>Cuantil</th>\n",
       "      <td>0.0</td>\n",
       "      <td>1.0</td>\n",
       "      <td>5.0</td>\n",
       "      <td>10.0</td>\n",
       "      <td>20.0</td>\n",
       "      <td>30.0</td>\n",
       "      <td>40.0</td>\n",
       "      <td>50.0</td>\n",
       "      <td>60.0</td>\n",
       "      <td>70.0</td>\n",
       "      <td>80.0</td>\n",
       "      <td>90.0</td>\n",
       "      <td>92.5</td>\n",
       "      <td>95.0</td>\n",
       "      <td>97.5</td>\n",
       "      <td>99.0</td>\n",
       "      <td>100.0</td>\n",
       "    </tr>\n",
       "    <tr>\n",
       "      <th>Valor_Variable</th>\n",
       "      <td>0.0</td>\n",
       "      <td>0.0</td>\n",
       "      <td>0.0</td>\n",
       "      <td>0.0</td>\n",
       "      <td>0.0</td>\n",
       "      <td>0.0</td>\n",
       "      <td>0.0</td>\n",
       "      <td>0.0</td>\n",
       "      <td>0.0</td>\n",
       "      <td>0.0</td>\n",
       "      <td>0.0</td>\n",
       "      <td>1.0</td>\n",
       "      <td>1.0</td>\n",
       "      <td>1.0</td>\n",
       "      <td>1.0</td>\n",
       "      <td>2.0</td>\n",
       "      <td>2.0</td>\n",
       "    </tr>\n",
       "  </tbody>\n",
       "</table>\n",
       "</div>"
      ],
      "text/plain": [
       "                 0    1    2     3     4     5     6     7     8     9     10  \\\n",
       "Cuantil         0.0  1.0  5.0  10.0  20.0  30.0  40.0  50.0  60.0  70.0  80.0   \n",
       "Valor_Variable  0.0  0.0  0.0   0.0   0.0   0.0   0.0   0.0   0.0   0.0   0.0   \n",
       "\n",
       "                  11    12    13    14    15     16  \n",
       "Cuantil         90.0  92.5  95.0  97.5  99.0  100.0  \n",
       "Valor_Variable   1.0   1.0   1.0   1.0   2.0    2.0  "
      ]
     },
     "execution_count": 176,
     "metadata": {},
     "output_type": "execute_result"
    }
   ],
   "source": [
    "Cuantiles(df[\"CANT_FALLECIDOS\"]).transpose()\n"
   ]
  },
  {
   "cell_type": "code",
   "execution_count": 177,
   "metadata": {
    "colab": {
     "base_uri": "https://localhost:8080/",
     "height": 112
    },
    "id": "dxRqMgSROCt1",
    "outputId": "76864ecd-8e36-44ac-f702-7194478ce06c"
   },
   "outputs": [
    {
     "data": {
      "text/html": [
       "<div>\n",
       "<style scoped>\n",
       "    .dataframe tbody tr th:only-of-type {\n",
       "        vertical-align: middle;\n",
       "    }\n",
       "\n",
       "    .dataframe tbody tr th {\n",
       "        vertical-align: top;\n",
       "    }\n",
       "\n",
       "    .dataframe thead th {\n",
       "        text-align: right;\n",
       "    }\n",
       "</style>\n",
       "<table border=\"1\" class=\"dataframe\">\n",
       "  <thead>\n",
       "    <tr style=\"text-align: right;\">\n",
       "      <th></th>\n",
       "      <th>0</th>\n",
       "      <th>1</th>\n",
       "      <th>2</th>\n",
       "      <th>3</th>\n",
       "      <th>4</th>\n",
       "      <th>5</th>\n",
       "      <th>6</th>\n",
       "      <th>7</th>\n",
       "      <th>8</th>\n",
       "      <th>9</th>\n",
       "      <th>10</th>\n",
       "      <th>11</th>\n",
       "      <th>12</th>\n",
       "      <th>13</th>\n",
       "      <th>14</th>\n",
       "      <th>15</th>\n",
       "      <th>16</th>\n",
       "    </tr>\n",
       "  </thead>\n",
       "  <tbody>\n",
       "    <tr>\n",
       "      <th>Cuantil</th>\n",
       "      <td>0.0</td>\n",
       "      <td>1.0</td>\n",
       "      <td>5.0</td>\n",
       "      <td>10.0</td>\n",
       "      <td>20.0</td>\n",
       "      <td>30.0</td>\n",
       "      <td>40.0</td>\n",
       "      <td>50.0</td>\n",
       "      <td>60.0</td>\n",
       "      <td>70.0</td>\n",
       "      <td>80.0</td>\n",
       "      <td>90.0</td>\n",
       "      <td>92.5</td>\n",
       "      <td>95.0</td>\n",
       "      <td>97.5</td>\n",
       "      <td>99.0</td>\n",
       "      <td>100.0</td>\n",
       "    </tr>\n",
       "    <tr>\n",
       "      <th>Valor_Variable</th>\n",
       "      <td>0.0</td>\n",
       "      <td>0.0</td>\n",
       "      <td>0.0</td>\n",
       "      <td>0.0</td>\n",
       "      <td>0.0</td>\n",
       "      <td>0.0</td>\n",
       "      <td>0.0</td>\n",
       "      <td>1.0</td>\n",
       "      <td>1.0</td>\n",
       "      <td>1.0</td>\n",
       "      <td>2.0</td>\n",
       "      <td>3.0</td>\n",
       "      <td>4.0</td>\n",
       "      <td>4.0</td>\n",
       "      <td>6.0</td>\n",
       "      <td>10.0</td>\n",
       "      <td>71.0</td>\n",
       "    </tr>\n",
       "  </tbody>\n",
       "</table>\n",
       "</div>"
      ],
      "text/plain": [
       "                 0    1    2     3     4     5     6     7     8     9     10  \\\n",
       "Cuantil         0.0  1.0  5.0  10.0  20.0  30.0  40.0  50.0  60.0  70.0  80.0   \n",
       "Valor_Variable  0.0  0.0  0.0   0.0   0.0   0.0   0.0   1.0   1.0   1.0   2.0   \n",
       "\n",
       "                  11    12    13    14    15     16  \n",
       "Cuantil         90.0  92.5  95.0  97.5  99.0  100.0  \n",
       "Valor_Variable   3.0   4.0   4.0   6.0  10.0   71.0  "
      ]
     },
     "execution_count": 177,
     "metadata": {},
     "output_type": "execute_result"
    }
   ],
   "source": [
    "\n",
    "Cuantiles(df[\"CANT_HERIDOS\"]).transpose()\n"
   ]
  },
  {
   "cell_type": "code",
   "execution_count": 178,
   "metadata": {
    "id": "E1TU9E_3LveM"
   },
   "outputs": [],
   "source": [
    "df[\"CANT_HERIDOS\"] = pd.to_numeric(df[\"CANT_HERIDOS\"], errors='coerce')\n",
    "\n",
    "cuantil_1h = np.percentile(df[\"CANT_HERIDOS\"].dropna(), 1)\n",
    "cuantil_97 = np.percentile(df[\"CANT_HERIDOS\"].dropna(), 97.5)"
   ]
  },
  {
   "cell_type": "code",
   "execution_count": 179,
   "metadata": {
    "colab": {
     "base_uri": "https://localhost:8080/"
    },
    "id": "rE87vdnSQW__",
    "outputId": "b7426c11-623a-482f-af7d-a0b7768d432e"
   },
   "outputs": [
    {
     "data": {
      "text/plain": [
       "np.float64(6.0)"
      ]
     },
     "execution_count": 179,
     "metadata": {},
     "output_type": "execute_result"
    }
   ],
   "source": [
    "cuantil_97"
   ]
  },
  {
   "cell_type": "code",
   "execution_count": 180,
   "metadata": {
    "id": "MNyB4QIrWNKb"
   },
   "outputs": [],
   "source": [
    "\n",
    "df.loc[df[\"CANT_HERIDOS\"]<cuantil_1h,\"CANT_HERIDOS\"] = cuantil_1h\n",
    "df.loc[df[\"CANT_HERIDOS\"]>cuantil_97,\"CANT_HERIDOS\"] = cuantil_97"
   ]
  },
  {
   "cell_type": "code",
   "execution_count": 181,
   "metadata": {
    "colab": {
     "base_uri": "https://localhost:8080/",
     "height": 112
    },
    "id": "qStXHXdXWdjQ",
    "outputId": "fa3b11ba-c408-4a44-bf97-2d62eec5ce90"
   },
   "outputs": [
    {
     "data": {
      "text/html": [
       "<div>\n",
       "<style scoped>\n",
       "    .dataframe tbody tr th:only-of-type {\n",
       "        vertical-align: middle;\n",
       "    }\n",
       "\n",
       "    .dataframe tbody tr th {\n",
       "        vertical-align: top;\n",
       "    }\n",
       "\n",
       "    .dataframe thead th {\n",
       "        text-align: right;\n",
       "    }\n",
       "</style>\n",
       "<table border=\"1\" class=\"dataframe\">\n",
       "  <thead>\n",
       "    <tr style=\"text-align: right;\">\n",
       "      <th></th>\n",
       "      <th>0</th>\n",
       "      <th>1</th>\n",
       "      <th>2</th>\n",
       "      <th>3</th>\n",
       "      <th>4</th>\n",
       "      <th>5</th>\n",
       "      <th>6</th>\n",
       "      <th>7</th>\n",
       "      <th>8</th>\n",
       "      <th>9</th>\n",
       "      <th>10</th>\n",
       "      <th>11</th>\n",
       "      <th>12</th>\n",
       "      <th>13</th>\n",
       "      <th>14</th>\n",
       "      <th>15</th>\n",
       "      <th>16</th>\n",
       "    </tr>\n",
       "  </thead>\n",
       "  <tbody>\n",
       "    <tr>\n",
       "      <th>Cuantil</th>\n",
       "      <td>0.0</td>\n",
       "      <td>1.0</td>\n",
       "      <td>5.0</td>\n",
       "      <td>10.0</td>\n",
       "      <td>20.0</td>\n",
       "      <td>30.0</td>\n",
       "      <td>40.0</td>\n",
       "      <td>50.0</td>\n",
       "      <td>60.0</td>\n",
       "      <td>70.0</td>\n",
       "      <td>80.0</td>\n",
       "      <td>90.0</td>\n",
       "      <td>92.5</td>\n",
       "      <td>95.0</td>\n",
       "      <td>97.5</td>\n",
       "      <td>99.0</td>\n",
       "      <td>100.0</td>\n",
       "    </tr>\n",
       "    <tr>\n",
       "      <th>Valor_Variable</th>\n",
       "      <td>0.0</td>\n",
       "      <td>0.0</td>\n",
       "      <td>0.0</td>\n",
       "      <td>0.0</td>\n",
       "      <td>0.0</td>\n",
       "      <td>0.0</td>\n",
       "      <td>0.0</td>\n",
       "      <td>1.0</td>\n",
       "      <td>1.0</td>\n",
       "      <td>1.0</td>\n",
       "      <td>2.0</td>\n",
       "      <td>3.0</td>\n",
       "      <td>4.0</td>\n",
       "      <td>4.0</td>\n",
       "      <td>6.0</td>\n",
       "      <td>6.0</td>\n",
       "      <td>6.0</td>\n",
       "    </tr>\n",
       "  </tbody>\n",
       "</table>\n",
       "</div>"
      ],
      "text/plain": [
       "                 0    1    2     3     4     5     6     7     8     9     10  \\\n",
       "Cuantil         0.0  1.0  5.0  10.0  20.0  30.0  40.0  50.0  60.0  70.0  80.0   \n",
       "Valor_Variable  0.0  0.0  0.0   0.0   0.0   0.0   0.0   1.0   1.0   1.0   2.0   \n",
       "\n",
       "                  11    12    13    14    15     16  \n",
       "Cuantil         90.0  92.5  95.0  97.5  99.0  100.0  \n",
       "Valor_Variable   3.0   4.0   4.0   6.0   6.0    6.0  "
      ]
     },
     "execution_count": 181,
     "metadata": {},
     "output_type": "execute_result"
    }
   ],
   "source": [
    "Cuantiles(df[\"CANT_HERIDOS\"]).transpose()\n"
   ]
  },
  {
   "cell_type": "code",
   "execution_count": 182,
   "metadata": {
    "id": "Ivj8O0-wZAKq"
   },
   "outputs": [],
   "source": [
    "\n",
    "df['PONDERADO_GRAVEDAD'] = df['CANT_FALLECIDOS'] * 5 + df['CANT_HERIDOS'] * 1\n"
   ]
  },
  {
   "cell_type": "code",
   "execution_count": 183,
   "metadata": {
    "colab": {
     "base_uri": "https://localhost:8080/",
     "height": 112
    },
    "id": "80JPZhG8duYL",
    "outputId": "6a5518ba-5174-4654-865e-f156aed9bdea"
   },
   "outputs": [
    {
     "data": {
      "text/html": [
       "<div>\n",
       "<style scoped>\n",
       "    .dataframe tbody tr th:only-of-type {\n",
       "        vertical-align: middle;\n",
       "    }\n",
       "\n",
       "    .dataframe tbody tr th {\n",
       "        vertical-align: top;\n",
       "    }\n",
       "\n",
       "    .dataframe thead th {\n",
       "        text-align: right;\n",
       "    }\n",
       "</style>\n",
       "<table border=\"1\" class=\"dataframe\">\n",
       "  <thead>\n",
       "    <tr style=\"text-align: right;\">\n",
       "      <th></th>\n",
       "      <th>0</th>\n",
       "      <th>1</th>\n",
       "      <th>2</th>\n",
       "      <th>3</th>\n",
       "      <th>4</th>\n",
       "      <th>5</th>\n",
       "      <th>6</th>\n",
       "      <th>7</th>\n",
       "      <th>8</th>\n",
       "      <th>9</th>\n",
       "      <th>10</th>\n",
       "      <th>11</th>\n",
       "      <th>12</th>\n",
       "      <th>13</th>\n",
       "      <th>14</th>\n",
       "      <th>15</th>\n",
       "      <th>16</th>\n",
       "    </tr>\n",
       "  </thead>\n",
       "  <tbody>\n",
       "    <tr>\n",
       "      <th>Cuantil</th>\n",
       "      <td>0.0</td>\n",
       "      <td>1.0</td>\n",
       "      <td>5.0</td>\n",
       "      <td>10.0</td>\n",
       "      <td>20.0</td>\n",
       "      <td>30.0</td>\n",
       "      <td>40.0</td>\n",
       "      <td>50.0</td>\n",
       "      <td>60.0</td>\n",
       "      <td>70.0</td>\n",
       "      <td>80.0</td>\n",
       "      <td>90.0</td>\n",
       "      <td>92.5</td>\n",
       "      <td>95.0</td>\n",
       "      <td>97.5</td>\n",
       "      <td>99.0</td>\n",
       "      <td>100.0</td>\n",
       "    </tr>\n",
       "    <tr>\n",
       "      <th>Valor_Variable</th>\n",
       "      <td>0.0</td>\n",
       "      <td>0.0</td>\n",
       "      <td>0.0</td>\n",
       "      <td>0.0</td>\n",
       "      <td>0.0</td>\n",
       "      <td>0.0</td>\n",
       "      <td>1.0</td>\n",
       "      <td>1.0</td>\n",
       "      <td>1.0</td>\n",
       "      <td>2.0</td>\n",
       "      <td>3.0</td>\n",
       "      <td>5.0</td>\n",
       "      <td>6.0</td>\n",
       "      <td>6.0</td>\n",
       "      <td>10.0</td>\n",
       "      <td>12.0</td>\n",
       "      <td>16.0</td>\n",
       "    </tr>\n",
       "  </tbody>\n",
       "</table>\n",
       "</div>"
      ],
      "text/plain": [
       "                 0    1    2     3     4     5     6     7     8     9     10  \\\n",
       "Cuantil         0.0  1.0  5.0  10.0  20.0  30.0  40.0  50.0  60.0  70.0  80.0   \n",
       "Valor_Variable  0.0  0.0  0.0   0.0   0.0   0.0   1.0   1.0   1.0   2.0   3.0   \n",
       "\n",
       "                  11    12    13    14    15     16  \n",
       "Cuantil         90.0  92.5  95.0  97.5  99.0  100.0  \n",
       "Valor_Variable   5.0   6.0   6.0  10.0  12.0   16.0  "
      ]
     },
     "execution_count": 183,
     "metadata": {},
     "output_type": "execute_result"
    }
   ],
   "source": [
    "\n",
    "Cuantiles(df[\"PONDERADO_GRAVEDAD\"]).transpose()"
   ]
  },
  {
   "cell_type": "code",
   "execution_count": 184,
   "metadata": {
    "id": "mbtaA0p5hDBq"
   },
   "outputs": [],
   "source": [
    "\n",
    "percentiles = df[\"PONDERADO_GRAVEDAD\"].quantile([0.0, 0.80, 0.95, 1.0])\n",
    "\n",
    "\n",
    "def clasificar_gravedad(valor):\n",
    "    if valor <= percentiles[0.80]:\n",
    "        return 'LEVE'\n",
    "    elif valor <= percentiles[0.95]:\n",
    "        return 'MODERADO'\n",
    "    else:\n",
    "        return 'GRAVE'\n",
    "\n",
    "\n",
    "df['GRAVEDAD_ACC'] = df['PONDERADO_GRAVEDAD'].apply(clasificar_gravedad)\n"
   ]
  },
  {
   "cell_type": "markdown",
   "metadata": {
    "id": "97egH0ymX9tj"
   },
   "source": [
    "**MODELADO DE DATOS**"
   ]
  },
  {
   "cell_type": "code",
   "execution_count": 185,
   "metadata": {
    "id": "qKNZ4Gm95X9d"
   },
   "outputs": [],
   "source": [
    "columnas = [\"NUM_MES\",\t\"MOMENTO_DIA\",\t\"MODALIDAD_ACC\",\t\"CANT_FALLECIDOS\",\t\"CANT_HERIDOS\", \"TIPO_VIA\",\t\"DEPARTAMENTO\",\t\"PONDERADO_GRAVEDAD\",\t\"GRAVEDAD_ACC\"]\n",
    "\n",
    "df_modelado = df[columnas]"
   ]
  },
  {
   "cell_type": "code",
   "execution_count": 186,
   "metadata": {
    "id": "Zy1wKczxzI3t"
   },
   "outputs": [],
   "source": [
    "from sklearn.model_selection import train_test_split\n",
    "X_train, X_test, y_train, y_test = train_test_split(df_modelado.drop('GRAVEDAD_ACC',axis=1),\n",
    "                                                    df_modelado.GRAVEDAD_ACC,\n",
    "                                                    test_size=0.20,\n",
    "                                                    stratify=df_modelado.GRAVEDAD_ACC,\n",
    "                                                    random_state=80)"
   ]
  },
  {
   "cell_type": "code",
   "execution_count": 187,
   "metadata": {
    "colab": {
     "base_uri": "https://localhost:8080/"
    },
    "id": "nmF6zRQu7YZs",
    "outputId": "c04fd85d-a332-4329-d829-abe816bbadbc"
   },
   "outputs": [
    {
     "name": "stdout",
     "output_type": "stream",
     "text": [
      "{'LEVE': 0.8171367259350092, 'MODERADO': 0.13841201716738197, 'GRAVE': 0.04445125689760883}\n"
     ]
    }
   ],
   "source": [
    "def probabilidad_a_priori(y_train):\n",
    "\n",
    "    priors = y_train.value_counts(normalize=True).to_dict()\n",
    "\n",
    "\n",
    "    return priors\n",
    "\n",
    "priors = probabilidad_a_priori(y_train)\n",
    "\n",
    "\n",
    "print(priors)"
   ]
  },
  {
   "cell_type": "code",
   "execution_count": 188,
   "metadata": {
    "id": "cnBL2gzz7nW3"
   },
   "outputs": [],
   "source": [
    "def calculate_likelihoods(X_train, y_train):\n",
    "\n",
    "    likelihoods = {}\n",
    "\n",
    "\n",
    "    for column in X_train.columns:\n",
    "\n",
    "        likelihoods[column] = {}\n",
    "\n",
    "\n",
    "        for value in X_train[column].unique():\n",
    "\n",
    "            likelihoods[column][value] = {}\n",
    "\n",
    "\n",
    "            for outcome in y_train.unique():\n",
    "\n",
    "                likelihoods[column][value][outcome] = (\n",
    "                    ((X_train[column] == value) & (y_train == outcome)).sum() + 1) / (y_train[y_train == outcome].shape[0] + X_train[column].nunique())\n",
    "\n",
    "\n",
    "    return likelihoods\n",
    "\n",
    "\n",
    "likelihoods = calculate_likelihoods(X_train, y_train)"
   ]
  },
  {
   "cell_type": "code",
   "execution_count": 189,
   "metadata": {
    "id": "SOixv3gJ9GjY"
   },
   "outputs": [],
   "source": [
    "def predict(X_test, priors, likelihoods):\n",
    "    predictions = []\n",
    "    for i in range(X_test.shape[0]):\n",
    "        posteriors = {}\n",
    "        for outcome in priors:\n",
    "            prior = np.log(priors[outcome])\n",
    "            posterior = prior\n",
    "            for column in X_test.columns:\n",
    "                value = X_test.iloc[i][column]\n",
    "                if value in likelihoods[column]:\n",
    "                    if outcome in likelihoods[column][value]:\n",
    "                        posterior += np.log(likelihoods[column][value][outcome])\n",
    "            posteriors[outcome] = posterior\n",
    "        predictions.append(max(posteriors, key=posteriors.get))\n",
    "    return predictions\n",
    "\n",
    "predictions = predict(X_test, priors, likelihoods)"
   ]
  },
  {
   "cell_type": "code",
   "execution_count": 190,
   "metadata": {
    "colab": {
     "base_uri": "https://localhost:8080/"
    },
    "id": "gAc85bhx9Ji3",
    "outputId": "0447882d-bcda-4780-f73f-6f306fab6a12"
   },
   "outputs": [
    {
     "name": "stdout",
     "output_type": "stream",
     "text": [
      "Accuracy: 0.9993868792152054\n"
     ]
    }
   ],
   "source": [
    "\n",
    "from sklearn.metrics import accuracy_score\n",
    "# Bayes\n",
    "accuracy = accuracy_score(y_test, predictions)\n",
    "print(f'Accuracy: {accuracy}')"
   ]
  },
  {
   "cell_type": "markdown",
   "metadata": {
    "id": "uToQ4aZBDCVX"
   },
   "source": [
    "## **Visualización de datos**"
   ]
  },
  {
   "cell_type": "code",
   "execution_count": 191,
   "metadata": {
    "colab": {
     "base_uri": "https://localhost:8080/",
     "height": 467
    },
    "id": "-3tXdubTV1FT",
    "outputId": "d77e8d41-0bdb-4f38-92dc-9dfd9be61e1d"
   },
   "outputs": [
    {
     "data": {
      "text/plain": [
       "<Axes: >"
      ]
     },
     "execution_count": 191,
     "metadata": {},
     "output_type": "execute_result"
    },
    {
     "data": {
      "image/png": "[encoded data removed]",
      "text/plain": [
       "<Figure size 640x480 with 1 Axes>"
      ]
     },
     "metadata": {},
     "output_type": "display_data"
    }
   ],
   "source": [
    "\n",
    "df_original = pd.read_csv('Accidentes de tránsito en carreteras-2020-2021-Sutran.csv', encoding=char_enc, sep=';')\n",
    "df_visualizacion = df.copy()\n",
    "df_visualizacion['DEPARTAMENTO'] = df_original['DEPARTAMENTO']\n",
    "\n",
    "mapa = gpd.read_file('mapa.geojson')\n",
    "mapa.plot()"
   ]
  },
  {
   "cell_type": "code",
   "execution_count": 192,
   "metadata": {
    "colab": {
     "base_uri": "https://localhost:8080/",
     "height": 206
    },
    "id": "lDAFj1G0r_FA",
    "outputId": "9f473540-392a-4e93-d815-d767df31772d"
   },
   "outputs": [
    {
     "data": {
      "text/html": [
       "<div>\n",
       "<style scoped>\n",
       "    .dataframe tbody tr th:only-of-type {\n",
       "        vertical-align: middle;\n",
       "    }\n",
       "\n",
       "    .dataframe tbody tr th {\n",
       "        vertical-align: top;\n",
       "    }\n",
       "\n",
       "    .dataframe thead th {\n",
       "        text-align: right;\n",
       "    }\n",
       "</style>\n",
       "<table border=\"1\" class=\"dataframe\">\n",
       "  <thead>\n",
       "    <tr style=\"text-align: right;\">\n",
       "      <th></th>\n",
       "      <th>NUM_MES</th>\n",
       "      <th>MOMENTO_DIA</th>\n",
       "      <th>MODALIDAD_ACC</th>\n",
       "      <th>CANT_FALLECIDOS</th>\n",
       "      <th>CANT_HERIDOS</th>\n",
       "      <th>TIPO_VIA</th>\n",
       "      <th>DEPARTAMENTO</th>\n",
       "      <th>PONDERADO_GRAVEDAD</th>\n",
       "      <th>GRAVEDAD_ACC</th>\n",
       "    </tr>\n",
       "  </thead>\n",
       "  <tbody>\n",
       "    <tr>\n",
       "      <th>0</th>\n",
       "      <td>0</td>\n",
       "      <td>0</td>\n",
       "      <td>2</td>\n",
       "      <td>0.0</td>\n",
       "      <td>0.0</td>\n",
       "      <td>0</td>\n",
       "      <td>LIMA</td>\n",
       "      <td>0.0</td>\n",
       "      <td>LEVE</td>\n",
       "    </tr>\n",
       "    <tr>\n",
       "      <th>1</th>\n",
       "      <td>0</td>\n",
       "      <td>3</td>\n",
       "      <td>2</td>\n",
       "      <td>0.0</td>\n",
       "      <td>0.0</td>\n",
       "      <td>0</td>\n",
       "      <td>CAJAMARCA</td>\n",
       "      <td>0.0</td>\n",
       "      <td>LEVE</td>\n",
       "    </tr>\n",
       "    <tr>\n",
       "      <th>2</th>\n",
       "      <td>0</td>\n",
       "      <td>1</td>\n",
       "      <td>2</td>\n",
       "      <td>0.0</td>\n",
       "      <td>1.0</td>\n",
       "      <td>0</td>\n",
       "      <td>PASCO</td>\n",
       "      <td>1.0</td>\n",
       "      <td>LEVE</td>\n",
       "    </tr>\n",
       "    <tr>\n",
       "      <th>3</th>\n",
       "      <td>0</td>\n",
       "      <td>2</td>\n",
       "      <td>2</td>\n",
       "      <td>0.0</td>\n",
       "      <td>2.0</td>\n",
       "      <td>0</td>\n",
       "      <td>CAJAMARCA</td>\n",
       "      <td>2.0</td>\n",
       "      <td>LEVE</td>\n",
       "    </tr>\n",
       "    <tr>\n",
       "      <th>4</th>\n",
       "      <td>0</td>\n",
       "      <td>2</td>\n",
       "      <td>2</td>\n",
       "      <td>0.0</td>\n",
       "      <td>5.0</td>\n",
       "      <td>0</td>\n",
       "      <td>LIMA</td>\n",
       "      <td>5.0</td>\n",
       "      <td>MODERADO</td>\n",
       "    </tr>\n",
       "  </tbody>\n",
       "</table>\n",
       "</div>"
      ],
      "text/plain": [
       "   NUM_MES  MOMENTO_DIA  MODALIDAD_ACC  CANT_FALLECIDOS  CANT_HERIDOS  \\\n",
       "0        0            0              2              0.0           0.0   \n",
       "1        0            3              2              0.0           0.0   \n",
       "2        0            1              2              0.0           1.0   \n",
       "3        0            2              2              0.0           2.0   \n",
       "4        0            2              2              0.0           5.0   \n",
       "\n",
       "   TIPO_VIA DEPARTAMENTO  PONDERADO_GRAVEDAD GRAVEDAD_ACC  \n",
       "0         0         LIMA                 0.0         LEVE  \n",
       "1         0    CAJAMARCA                 0.0         LEVE  \n",
       "2         0        PASCO                 1.0         LEVE  \n",
       "3         0    CAJAMARCA                 2.0         LEVE  \n",
       "4         0         LIMA                 5.0     MODERADO  "
      ]
     },
     "execution_count": 192,
     "metadata": {},
     "output_type": "execute_result"
    }
   ],
   "source": [
    "df_visualizacion.head()"
   ]
  },
  {
   "cell_type": "code",
   "execution_count": 193,
   "metadata": {
    "colab": {
     "base_uri": "https://localhost:8080/",
     "height": 1000
    },
    "id": "FNPLhsXEDpnL",
    "outputId": "b7229dcf-f25e-4d41-e6da-dfce62ea8e16"
   },
   "outputs": [
    {
     "name": "stdout",
     "output_type": "stream",
     "text": [
      "DEPARTAMENTO\n",
      "LIMA             1558\n",
      "AREQUIPA          795\n",
      "JUNIN             715\n",
      "ANCASH            602\n",
      "PUNO              529\n",
      "ICA               377\n",
      "CAJAMARCA         350\n",
      "CUSCO             346\n",
      "LAMBAYEQUE        343\n",
      "LA LIBERTAD       329\n",
      "PIURA             327\n",
      "SAN MARTIN        274\n",
      "APURIMAC          202\n",
      "MADRE DE DIOS     191\n",
      "HUANUCO           174\n",
      "AYACUCHO          168\n",
      "MOQUEGUA          155\n",
      "UCAYALI           154\n",
      "AMAZONAS          152\n",
      "TACNA             151\n",
      "LORETO             82\n",
      "PASCO              77\n",
      "HUANCAVELICA       62\n",
      "TUMBES             25\n",
      "N.I.                7\n",
      "CALLAO              6\n",
      "Arequipa            2\n",
      "Cusco               1\n",
      "Puno                1\n",
      "Name: count, dtype: int64\n"
     ]
    },
    {
     "data": {
      "image/png": "[encoded data removed]",
      "text/plain": [
       "<Figure size 1000x800 with 2 Axes>"
      ]
     },
     "metadata": {},
     "output_type": "display_data"
    }
   ],
   "source": [
    "\n",
    "mapa = gpd.read_file('mapa.geojson')\n",
    "accidentes_por_departamento = df_visualizacion['DEPARTAMENTO'].value_counts()\n",
    "print(accidentes_por_departamento)\n",
    "\n",
    "mapa = mapa.set_index('NOMBDEP').join(accidentes_por_departamento.rename('accidentes'))\n",
    "\n",
    "fig, ax = plt.subplots(1, 1, figsize=(10, 8))\n",
    "mapa.plot(column='accidentes', cmap='YlOrRd', linewidth=0.8, ax=ax, edgecolor='0.8', legend=True)\n",
    "\n",
    "ax.axis('off')\n",
    "ax.set_title('Número de accidentes por departamento')\n",
    "\n",
    "plt.show()"
   ]
  },
  {
   "cell_type": "code",
   "execution_count": 194,
   "metadata": {
    "colab": {
     "base_uri": "https://localhost:8080/",
     "height": 677
    },
    "id": "6ZsAn7hARj7N",
    "outputId": "5612bb61-e297-4337-e193-6d244084cdd3"
   },
   "outputs": [
    {
     "data": {
      "image/png": "[encoded data removed]",
      "text/plain": [
       "<Figure size 1000x800 with 2 Axes>"
      ]
     },
     "metadata": {},
     "output_type": "display_data"
    }
   ],
   "source": [
    "\n",
    "mapa = gpd.read_file('mapa.geojson')\n",
    "gravedad_promedio = df_visualizacion.groupby('DEPARTAMENTO')['PONDERADO_GRAVEDAD'].mean()\n",
    "mapa = mapa.reset_index()\n",
    "\n",
    "mapa = mapa.set_index('NOMBDEP').join(gravedad_promedio.rename('gravedad_promedio'))\n",
    "\n",
    "fig, ax = plt.subplots(1, 1, figsize=(10, 8))\n",
    "mapa.plot(column='gravedad_promedio', cmap='YlOrRd', linewidth=0.8, ax=ax, edgecolor='0.8', legend=True)\n",
    "\n",
    "\n",
    "ax.axis('off')\n",
    "ax.set_title('Índice de gravedad promedio por departamento')\n",
    "\n",
    "plt.show()"
   ]
  },
  {
   "cell_type": "code",
   "execution_count": 195,
   "metadata": {
    "colab": {
     "base_uri": "https://localhost:8080/",
     "height": 759
    },
    "id": "6LA5LkqJVB5A",
    "outputId": "ca2ef4e6-63e6-4ef6-9ada-4969800ff580"
   },
   "outputs": [
    {
     "name": "stderr",
     "output_type": "stream",
     "text": [
      "C:\\Users\\osmar\\AppData\\Local\\Temp\\ipykernel_104408\\3206922265.py:29: FutureWarning: \n",
      "\n",
      "Passing `palette` without assigning `hue` is deprecated and will be removed in v0.14.0. Assign the `x` variable to `hue` and set `legend=False` for the same effect.\n",
      "\n",
      "  sns.barplot(x=df_plot.index, y='NUM_ACCIDENTES', data=df_plot, palette=list(bar_colors), ax=ax)\n",
      "C:\\Users\\osmar\\AppData\\Local\\Temp\\ipykernel_104408\\3206922265.py:34: UserWarning: set_ticklabels() should only be used with a fixed number of ticks, i.e. after set_ticks() or using a FixedLocator.\n",
      "  ax.set_xticklabels(ax.get_xticklabels(), rotation=45)\n"
     ]
    },
    {
     "data": {
      "image/png": "[encoded data removed]",
      "text/plain": [
       "<Figure size 1000x600 with 2 Axes>"
      ]
     },
     "metadata": {},
     "output_type": "display_data"
    }
   ],
   "source": [
    "import seaborn as sns\n",
    "import matplotlib.pyplot as plt\n",
    "\n",
    "df_plot = df_visualizacion.copy()\n",
    "\n",
    "gravedad_promedio = df_plot.groupby('DEPARTAMENTO')['PONDERADO_GRAVEDAD'].mean()\n",
    "\n",
    "promedio_gravedad_por_mes = df_plot.groupby('NUM_MES')['PONDERADO_GRAVEDAD'].mean().reset_index()\n",
    "promedio_gravedad_por_mes.columns = ['NUM_MES', 'GRAVEDAD_PROMEDIO']\n",
    "\n",
    "accidentes_por_mes = df_plot.groupby('NUM_MES').size().reset_index(name='NUM_ACCIDENTES')\n",
    "\n",
    "df_plot = accidentes_por_mes.merge(promedio_gravedad_por_mes, on='NUM_MES')\n",
    "df_plot = df_plot.sort_values('NUM_MES')\n",
    "\n",
    "cmap = sns.color_palette(\"viridis\", as_cmap=True)\n",
    "norm = plt.Normalize(df_plot['GRAVEDAD_PROMEDIO'].min(), df_plot['GRAVEDAD_PROMEDIO'].max())\n",
    "bar_colors = cmap(norm(df_plot['GRAVEDAD_PROMEDIO']))\n",
    "\n",
    "meses = {\n",
    "    0: 'Enero', 1: 'Febrero', 2: 'Marzo', 3: 'Abril', 4: 'Mayo', 5: 'Junio',\n",
    "    6: 'Julio', 7: 'Agosto', 8: 'Septiembre', 9: 'Octubre', 10: 'Noviembre', 11: 'Diciembre'\n",
    "}\n",
    "\n",
    "df_plot.set_index('NUM_MES', inplace=True)\n",
    "df_plot.rename(index=meses, inplace=True)\n",
    "\n",
    "fig, ax = plt.subplots(figsize=(10, 6))\n",
    "sns.barplot(x=df_plot.index, y='NUM_ACCIDENTES', data=df_plot, palette=list(bar_colors), ax=ax)\n",
    "\n",
    "ax.set_title('Número de accidentes por mes')\n",
    "ax.set_xlabel('Mes')\n",
    "ax.set_ylabel('Número de accidentes')\n",
    "ax.set_xticklabels(ax.get_xticklabels(), rotation=45)\n",
    "plt.subplots_adjust(bottom=0.2, top=0.9)\n",
    "\n",
    "sm = plt.cm.ScalarMappable(cmap=cmap, norm=norm)\n",
    "sm.set_array([])\n",
    "cbar = plt.colorbar(sm, ax=ax)\n",
    "cbar.set_label('Gravedad Promedio')\n",
    "\n",
    "plt.show()"
   ]
  },
  {
   "cell_type": "code",
   "execution_count": 196,
   "metadata": {
    "colab": {
     "base_uri": "https://localhost:8080/",
     "height": 758
    },
    "id": "BZ8AscfHClhz",
    "outputId": "91bfe713-722e-4911-c053-1cbebe5ae87e"
   },
   "outputs": [
    {
     "name": "stderr",
     "output_type": "stream",
     "text": [
      "C:\\Users\\osmar\\AppData\\Local\\Temp\\ipykernel_104408\\2152504012.py:26: FutureWarning: \n",
      "\n",
      "Passing `palette` without assigning `hue` is deprecated and will be removed in v0.14.0. Assign the `x` variable to `hue` and set `legend=False` for the same effect.\n",
      "\n",
      "  sns.barplot(x=df_plot.index, y='NUM_ACCIDENTES', data=df_plot, palette=list(bar_colors), ax=ax)\n",
      "C:\\Users\\osmar\\AppData\\Local\\Temp\\ipykernel_104408\\2152504012.py:31: UserWarning: set_ticklabels() should only be used with a fixed number of ticks, i.e. after set_ticks() or using a FixedLocator.\n",
      "  ax.set_xticklabels(ax.get_xticklabels(), rotation=45)\n"
     ]
    },
    {
     "data": {
      "image/png": "[encoded data removed]",
      "text/plain": [
       "<Figure size 1000x600 with 2 Axes>"
      ]
     },
     "metadata": {},
     "output_type": "display_data"
    }
   ],
   "source": [
    "import seaborn as sns\n",
    "import matplotlib.pyplot as plt\n",
    "\n",
    "df_plot = df_visualizacion.copy()\n",
    "\n",
    "promedio_gravedad_por_momento = df_plot.groupby('MOMENTO_DIA')['PONDERADO_GRAVEDAD'].mean().reset_index()\n",
    "promedio_gravedad_por_momento.columns = ['MOMENTO_DIA', 'GRAVEDAD_PROMEDIO']\n",
    "\n",
    "accidentes_por_momento = df_plot.groupby('MOMENTO_DIA').size().reset_index(name='NUM_ACCIDENTES')\n",
    "\n",
    "df_plot = accidentes_por_momento.merge(promedio_gravedad_por_momento, on='MOMENTO_DIA')\n",
    "\n",
    "momentos_dia = {\n",
    "    0: 'Madrugada', 1: 'Mañana', 2: 'Noche', 3: 'Tarde'\n",
    "}\n",
    "\n",
    "df_plot.set_index('MOMENTO_DIA', inplace=True)\n",
    "df_plot.rename(index=momentos_dia, inplace=True)\n",
    "df_plot = df_plot.reindex(['Mañana', 'Tarde', 'Noche', 'Madrugada'])\n",
    "\n",
    "cmap = sns.color_palette(\"viridis\", as_cmap=True)\n",
    "norm = plt.Normalize(df_plot['GRAVEDAD_PROMEDIO'].min(), df_plot['GRAVEDAD_PROMEDIO'].max())\n",
    "bar_colors = cmap(norm(df_plot['GRAVEDAD_PROMEDIO']))\n",
    "\n",
    "fig, ax = plt.subplots(figsize=(10, 6))\n",
    "sns.barplot(x=df_plot.index, y='NUM_ACCIDENTES', data=df_plot, palette=list(bar_colors), ax=ax)\n",
    "\n",
    "ax.set_title('Número de accidentes por momento del día')\n",
    "ax.set_xlabel('Momento del día')\n",
    "ax.set_ylabel('Número de accidentes')\n",
    "ax.set_xticklabels(ax.get_xticklabels(), rotation=45)\n",
    "plt.subplots_adjust(bottom=0.2, top=0.9)\n",
    "\n",
    "sm = plt.cm.ScalarMappable(cmap=cmap, norm=norm)\n",
    "sm.set_array([])\n",
    "cbar = plt.colorbar(sm, ax=ax)\n",
    "cbar.set_label('Gravedad Promedio')\n",
    "\n",
    "plt.show()"
   ]
  }
 ],
 "metadata": {
  "colab": {
   "provenance": []
  },
  "kernelspec": {
   "display_name": "Python 3",
   "name": "python3"
  },
  "language_info": {
   "codemirror_mode": {
    "name": "ipython",
    "version": 3
   },
   "file_extension": ".py",
   "mimetype": "text/x-python",
   "name": "python",
   "nbconvert_exporter": "python",
   "pygments_lexer": "ipython3",
   "version": "3.10.0"
  }
 },
 "nbformat": 4,
 "nbformat_minor": 0
}
